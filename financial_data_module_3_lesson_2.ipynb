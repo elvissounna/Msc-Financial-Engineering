{
  "cells": [
    {
      "cell_type": "markdown",
      "metadata": {
        "id": "view-in-github",
        "colab_type": "text"
      },
      "source": [
        "<a href=\"https://colab.research.google.com/github/elvissounna/Msc-Financial-Engineering/blob/main/financial_data_module_3_lesson_2.ipynb\" target=\"_parent\"><img src=\"https://colab.research.google.com/assets/colab-badge.svg\" alt=\"Open In Colab\"/></a>"
      ]
    },
    {
      "cell_type": "markdown",
      "metadata": {
        "id": "A_djuWRzMXkq"
      },
      "source": [
        "MODULE 3 | LESSON 2\n",
        "\n",
        "\n",
        "---\n",
        "\n",
        "# **Efficient Frontier, Sharpe Ratio and Downside Risk Metrics**"
      ]
    },
    {
      "cell_type": "markdown",
      "metadata": {
        "id": "aSW9-996Miww"
      },
      "source": [
        "|  |  |\n",
        "|:---|:---|\n",
        "|**Reading Time** | 6h  |\n",
        "|**Prior Knowledge** | percent-log returns, risk metrics, normal and t distributions  |\n",
        "|**Keywords** | dividend adjusted, adjusted close, splits, returns, Value at Risk, Conditional, expectation |\n",
        "\n",
        "---"
      ]
    },
    {
      "cell_type": "markdown",
      "metadata": {
        "id": "t6JWZbCYFhmI"
      },
      "source": [
        "*In this lesson, we continue by exploring some important types of returns.  Specifically, we introduce total returns, dividend-adjusted returns, and excess returns. We discuss the adjusted close price and give direction on how to calculate it. We then progress to the Sharpe Ratio, a fundamental metric in modern portfolio theory that measures risk-adjusted performance. This ratio helps investors and analysts evaluate the return of an investment in relation to its risk. Lastly, we introduce the Value at Risk (VaR), a key risk metric used widely in the financial industry. We cover multiple methods for calculating VaR, including historical, parametric (using both normal and t-distributions), and Monte Carlo simulation approaches. We also introduce the concept of Conditional Value at Risk (CVaR), which provides additional insight into tail risk.*"
      ]
    },
    {
      "cell_type": "code",
      "source": [
        "#pip install fredapi"
      ],
      "metadata": {
        "colab": {
          "base_uri": "https://localhost:8080/"
        },
        "id": "_vgALV4xec3E",
        "outputId": "1c1754b5-2415-4beb-bdbf-dc8c420ae56a"
      },
      "execution_count": null,
      "outputs": [
        {
          "output_type": "stream",
          "name": "stdout",
          "text": [
            "Collecting fredapi\n",
            "  Downloading fredapi-0.5.2-py3-none-any.whl.metadata (5.0 kB)\n",
            "Requirement already satisfied: pandas in /usr/local/lib/python3.11/dist-packages (from fredapi) (2.2.2)\n",
            "Requirement already satisfied: numpy>=1.23.2 in /usr/local/lib/python3.11/dist-packages (from pandas->fredapi) (2.0.2)\n",
            "Requirement already satisfied: python-dateutil>=2.8.2 in /usr/local/lib/python3.11/dist-packages (from pandas->fredapi) (2.9.0.post0)\n",
            "Requirement already satisfied: pytz>=2020.1 in /usr/local/lib/python3.11/dist-packages (from pandas->fredapi) (2025.2)\n",
            "Requirement already satisfied: tzdata>=2022.7 in /usr/local/lib/python3.11/dist-packages (from pandas->fredapi) (2025.2)\n",
            "Requirement already satisfied: six>=1.5 in /usr/local/lib/python3.11/dist-packages (from python-dateutil>=2.8.2->pandas->fredapi) (1.17.0)\n",
            "Downloading fredapi-0.5.2-py3-none-any.whl (11 kB)\n",
            "Installing collected packages: fredapi\n",
            "Successfully installed fredapi-0.5.2\n"
          ]
        }
      ]
    },
    {
      "cell_type": "code",
      "execution_count": null,
      "metadata": {
        "id": "BZ9InUEbqwiO"
      },
      "outputs": [],
      "source": [
        "import pandas as pd\n",
        "import numpy as np\n",
        "import matplotlib.pyplot as plt\n",
        "import seaborn as sns\n",
        "import yfinance as yf\n",
        "import fredapi as fa\n",
        "from scipy import stats\n",
        "import numpy as np\n",
        "sns.set()"
      ]
    },
    {
      "cell_type": "markdown",
      "metadata": {
        "id": "4tsZsezGth8R"
      },
      "source": [
        "## **1. Total Returns and Dividend-Adjusted Returns**\n",
        "\n",
        "In the previous lesson, we discussed on portfolio returns and variance. We specifically learned how to calculate returns and annualize them along with some specific characteristics of the two major kinds of returns: percent and logarithmic.\n",
        "\n",
        "In this lesson, we start by expanding on **total, dividend-adjusted, and excess Returns** as a prerequisite for various kinds of ratios an engineer should be aware of. In doing so, a discussion on *adjusted close price* will naturally emerge.\n",
        "\n",
        "### **1.1 Total Returns & Dividend Adjusted Returns**\n",
        "\n",
        "Total returns represent the overall gain or loss on an investment over a specific period. It accounts for all forms of income:\n",
        "\n",
        "$$\n",
        "\\text{Total Returns} = \\frac{(p_{T} - p_{0}) + (D + I)}{p_{0}}\n",
        "$$\n",
        "\n",
        "Where:\n",
        "* $T$: End of period.\n",
        "* $D$: Dividends.\n",
        "* $I$: Any form of additional income the specific investment provides.\n",
        "\n",
        "Dividend-adjusted returns are similar to total returns except they only account for dividends paid:\n",
        "\n",
        "$$\n",
        "\\text{Dividend Adjusted Returns} = \\frac{(p_{T} - p_{0}) + D}{p_{0}}\n",
        "$$\n",
        "\n",
        "The above two formulae are self-explanatory and intuitive, but in order to dive a bit deeper, we will need to calculate them given a close price and the dividends per share.\n",
        "\n",
        "Let's consider a stock X with the following close price and dividends over three years (all prices are ex-date):\n",
        "\n",
        "|  |  | |\n",
        "|---   |---|  ---|\n",
        "| Year | Price (\\$) | Dividends(\\$) |\n",
        "| 2019: | 105 | 2 |\n",
        "| 2020: | 112 | 2.2 |\n",
        "| 2021: | 118 | 2.4 |\n",
        "| 2022: | 116 | 2.3 |\n",
        "\n",
        "The dividend-adjusted returns for the period 2021 to 2022 are:\n",
        "\n",
        "$$\n",
        "r^{\\text{Adj}}_{2021 - 2022} = \\frac{116 - 118 + 2.3}{118} = 0.0025\n",
        "$$\n",
        "\n",
        "whereas the non-adjusted returns are:\n",
        "\n",
        "$$\n",
        "r_{2021 - 2022} = \\frac{116 - 118}{118} = -0.017\n",
        "$$\n",
        "\n",
        "Even though the two returns are pretty close, their sign is different! And since every investor that holds shares will get paid dividends, we need to take this into account as well in calculating returns. The latter leads us to the adjusted-close price as a convenient price transformation that takes dividends into account (along with splits and other corporate actions)\n",
        "\n",
        "### **1.2 Adjusted-Close Price**\n",
        "\n",
        "A simple way of calculating the adjusted-close (assuming no splits) is the following:\n",
        "\n",
        "$$\n",
        "p^{\\text{adj}}_{t} = p_{t}^{\\text{close}} - \\sum_{i > t} D_{i}\n",
        "$$\n",
        "\n",
        "which essentially means that at any given time $t$, we need to subtract all dividends that are paid from time $t$ and on. Calculating the adjusted-close is a backwards-looking procedure. For example:\n",
        "\n",
        "|  |  | | |\n",
        "|---   |---|  ---| ---|\n",
        "| Year | Close Price (\\$) | Dividends(\\$) | Adjusted Close (\\$)|\n",
        "| 2019: | 105 | 2 | 105 - 2.2 - 2.3 - 2.4 = 98.10 |\n",
        "| 2020: | 112 | 2.2 | 112 - 2.3 - 2.4  = 107.30|\n",
        "| 2021: | 118 | 2.4 | 118 - 2.3 = 115.07 |\n",
        "| 2022: | 116 | 2.3 | 116 |\n",
        "\n",
        "So now, let's calculate the dividend-adjusted returns and the adjusted-close returns over the period of 2019 to 2021.\n",
        "\n",
        "$$\n",
        "\\text{Dividend Adjusted Returns} = \\frac{(118 - 105) + 2.4 + 2.2}{105} = 0.1676\n",
        "$$\n",
        "\n",
        "and\n",
        "\n",
        "$$\n",
        "\\text{Adjusted Close Returns} = \\frac{115.07 - 98.10}{98.10} = 0.1723\n",
        "$$\n",
        "\n",
        "The above two numbers are different. Do you know why?\n",
        "\n",
        "The reason lies in the reinvestment assumption when calculating the adjusted-close price. One can see that this transformation leads to significant changes in the price array: for 2019, the observed price was 105 whereas the adjusted-close was 98.10. Similarly, for 2021, the observed price was 118 while the adjusted-close was 115.07. The difference between the two adjusted-close prices is attributed to price appreciation (the same as with the close prices) and the dividends paid during that period. In essence, the share's close price along with the dividends **is replicated with a price that incorporates the dividends as if the latter was a part of price appreciation**.\n",
        "\n",
        "But if the price of an asset one holds appreciates, then the appreciation is still part of the asset and not cash as is the case when dividends are paid. In this observation, we find an important distinction between the dividend-adjusted returns and adjusted-close returns: when using adjusted-close returns, we assume that we reinvest the dividends in more shares.\n",
        "\n",
        "For a more detailed and precise way of calculating the adjusted close, please read this: https://help.yahoo.com/kb/SLN28256.html?guccounter=1. Make sure you can explain the benefits of using multipliers instead of subtracting the dividends in adjusting the price.\n",
        "\n",
        "-----------\n",
        "\n",
        "**Exercise 1**\n",
        "\n",
        "Given an additional data point for stock X:\n",
        "\n",
        "|  |  | |\n",
        "|---   |---|  ---|\n",
        "| Year | Price (\\$) | Dividends(\\$) |\n",
        "| 2023: | 120 | 1.8 |\n",
        "\n",
        "answer whether the close price for 2020 will change. What about the existing adjusted close price for 2020? By how much? (Use the method provided in the notebook.)\n",
        "\n",
        "-----------------\n",
        "\n",
        "Now, let's showcase an example of calculating the adjusted-close price for TSLA, which had two splits but never paid dividends (make sure you understand the method explained in the link above).\n"
      ]
    },
    {
      "cell_type": "code",
      "execution_count": null,
      "metadata": {
        "colab": {
          "base_uri": "https://localhost:8080/",
          "height": 650
        },
        "id": "PJ0RcoOBovsg",
        "outputId": "abd03c99-5bd8-4963-ba41-520f29dced18"
      },
      "outputs": [
        {
          "output_type": "display_data",
          "data": {
            "text/plain": [
              "<Figure size 1200x800 with 2 Axes>"
            ],
            "image/png": "[encoded data removed]"
          },
          "metadata": {}
        }
      ],
      "source": [
        "# Figure 1: We built a plot to visualize the difference between the original close price\n",
        "# and the calculated adjusted close price\n",
        "tsla = pd.read_csv(\"https://raw.githubusercontent.com/DonLeKouT/Just_files/refs/heads/main/TSLA_stock_price.csv\")\n",
        "tsla.set_index('date', inplace=True)\n",
        "tsla.index = pd.to_datetime(tsla.index)\n",
        "\n",
        "splits = {'2022-08-25' : 3, \"2020-08-31\" : 5} # The dates and multiplier of TSLA splits\n",
        "\n",
        "tsla['Adjusted Close'] = tsla['close'].copy()\n",
        "\n",
        "for date, split in splits.items():\n",
        "    date = pd.to_datetime(date) - pd.Timedelta(days=1)\n",
        "    tsla.loc[:date, 'Adjusted Close'] = tsla.loc[:date, 'Adjusted Close'] / split\n",
        "\n",
        "tsla[['close', 'Adjusted Close']].loc[\"2016\":].plot(figsize=(12, 8), subplots = True)\n",
        "plt.show()\n"
      ]
    },
    {
      "cell_type": "markdown",
      "metadata": {
        "id": "wSeB90s0akoy"
      },
      "source": [
        "In Figure 1, one can see the differences between the close and the adjusted-close price. We notice the divergence in scale ($y$-axis), which is proportional to the splits. Additionally, in the close price plot, we observe the vertical decline in price on the days the split happened. That is to be expected since the split kept the market cap of TSLA intact, lowering the price of the share in an instant.\n",
        "\n",
        "--------\n",
        "\n",
        "\n"
      ]
    },
    {
      "cell_type": "markdown",
      "source": [
        "**Exercise 2**\n",
        "\n",
        "Compute the daily returns (percent or log) of the close and adjusted-close price of TSLA. Are they different?\n"
      ],
      "metadata": {
        "id": "88It45AzhXIL"
      }
    },
    {
      "cell_type": "code",
      "source": [
        "# Daily percentage returns for close and Adjusted Close\n",
        "tsla_returns_close = tsla['close'].pct_change().dropna()\n",
        "tsla_returns_adjusted_close = tsla['Adjusted Close'].pct_change().dropna()\n",
        "\n",
        "# Check if the two series of returns are different\n",
        "are_returns_different = not tsla_returns_close.equals(tsla_returns_adjusted_close)\n",
        "\n",
        "print(\"Daily Returns (Close Price):\")\n",
        "print(tsla_returns_close.head())\n",
        "print(\"\\nDaily Returns (Adjusted Close Price):\")\n",
        "print(tsla_returns_adjusted_close.head())\n",
        "\n",
        "print(f\"\\nAre the daily returns from 'close' and 'Adjusted Close' different? {are_returns_different}\")"
      ],
      "metadata": {
        "colab": {
          "base_uri": "https://localhost:8080/"
        },
        "id": "O46DLUisjF2f",
        "outputId": "0ecbb716-c6ac-4685-ff87-05bf08677a04"
      },
      "execution_count": null,
      "outputs": [
        {
          "output_type": "stream",
          "name": "stdout",
          "text": [
            "Daily Returns (Close Price):\n",
            "date\n",
            "2010-06-30   -0.002512\n",
            "2010-07-01   -0.078473\n",
            "2010-07-02   -0.125683\n",
            "2010-07-06   -0.160937\n",
            "2010-07-07   -0.019243\n",
            "Name: close, dtype: float64\n",
            "\n",
            "Daily Returns (Adjusted Close Price):\n",
            "date\n",
            "2010-06-30   -0.002512\n",
            "2010-07-01   -0.078473\n",
            "2010-07-02   -0.125683\n",
            "2010-07-06   -0.160937\n",
            "2010-07-07   -0.019243\n",
            "Name: Adjusted Close, dtype: float64\n",
            "\n",
            "Are the daily returns from 'close' and 'Adjusted Close' different? True\n"
          ]
        }
      ]
    },
    {
      "cell_type": "markdown",
      "source": [
        "Exercise 3\n",
        "\n",
        "Create an account in AlphaVantage and obtain an APIKEY. Select an asset that had undergone several splits (2 or more) and paid some dividends (twice or more) and download the close price (not adjusted). Use the Yahoo methodology, found in the link provided above, in order to calculate the adjusted-close price. Plot the results as in Figure 1."
      ],
      "metadata": {
        "id": "AhNC7ZFthJgA"
      }
    },
    {
      "cell_type": "code",
      "source": [],
      "metadata": {
        "id": "g2N-MYsD2R6n"
      },
      "execution_count": null,
      "outputs": []
    },
    {
      "cell_type": "markdown",
      "metadata": {
        "id": "DyrsicYxmWIa"
      },
      "source": [
        "## **2.  Excess Returns**\n",
        "\n",
        "### **2.1 Excess Returns Definition**\n",
        "\n",
        "As you already remember from the Financial Markets course, excess return is the difference between the returns of an asset (or portfolio) and a benchmark. An analyst can use various benchmarks depending on the analysis, but the most common ones are a market proxy (S&P500) or a risk-free rate (T-Bills). The formula for excess returns is:\n",
        "\n",
        "$$\n",
        "\\text{Excess Returns} = r_{\\text{portfolio}} - r_{\\text{benchmark}}\n",
        "$$\n",
        "\n",
        "where:\n",
        "* $r_{\\text{portfolio}}$ is the **total return** of the investment\n",
        "* $r_{\\text{benchmark}}$ is the returns of the benchmark\n",
        "\n",
        "In calculating excess returns, it is crucial to account for all types of cash flows associated with the investment, which is why total returns are used. In practice, however, adjusted-close returns can be used, provided that any additional cash flows are manually included if they are not already factored into the adjusted-close price by the data provider.\n",
        "\n",
        "But now, we need to talk about the benchmark. As we have mentioned, the benchmark is case specific and can be represented by any asset an analyst decides to test the returns of their investment against. For example:\n",
        "\n",
        "* Selecting a benchmark in terms of objectives, strategy, and sector: S&P500 as a broad market benchmark, NASDAQ for technology and growth portfolios, or Russell 2000 for small-cap equity portfolios.\n",
        "\n",
        "* Geographic exposure: the benchmark should represent the region where the investment takes place. In the UK, one could use FTSE 100 or FTSE 250; in the EU, there is EURO STOXX 50, DAX, or CAC 40; and in India, one has NIFTY 50, S&P BSE 500, and more.\n",
        "\n",
        "* Using the risk-free rate as the benchmark, one should take into account the:\n",
        "\n",
        "  * Investment horizon: for short-term investments, government securities like 3-month T-bill are appropriate. For longer-term investments, 10-year treasuries could be more suitable. In any case, the rule of thumb is to use the rate that is the closest to the duration of the investment.\n",
        "\n",
        "  * Theoretical considerations: the 3-month T-bill is widely used in academic studies and models like CAPM, but the 10-year Treasury better represents the expectations for inflation and the economy.\n",
        "\n",
        "### **2.2 Excess Returns over Expected Return**\n",
        "\n",
        "In the context of finance, the expected return of an asset represents the return an investor expects/requires given the risk profile of the specific asset. That means that in calculating the expected return, one can take into account the systematic risk, inflation expectations, interest rate risk, and more. If the actual returns of the asset are greater than expected returns, then we can say that *the asset has outperformed expectations*.\n",
        "\n",
        "$$\n",
        "\\text{Excess Returns} = r_{\\text{actual}} - \\mathbb{E}(r_{\\text{asset}})\n",
        "$$\n",
        "\n",
        "But calculating the expected return is not straightforward and depends on several strong assumptions. We will mention several methods used to estimate the expected returns of an asset. These methods are distinguished with respect to the types of risk that they make use of:\n",
        "\n",
        "**CAPM**\n",
        "\n",
        "A widely used model is the capital asset pricing model (CAPM), which models returns with respect to systematic risk. The formula for CAPM is:\n",
        "\n",
        "$$\n",
        "\\mathbb{E}(r_{\\text{asset}}) = r_{f} + \\beta (r_{m} - r_{f})\n",
        "$$\n",
        "\n",
        "where\n",
        "* $r_{f}$ is the risk-free rate\n",
        "* $r_{m}$ is a market proxy\n",
        "* $\\beta$ is the sensitivity of the asset to the market returns.\n",
        "\n",
        "In the CAPM world, the excess return is often called *alpha* ($\\alpha$):\n",
        "\n",
        "$$\n",
        "\\alpha = r_{\\text{actual}} - \\left ( r_{f} + \\beta (r_{m} - r_{f}) \\right )\n",
        "$$\n",
        "\n",
        "**APT**\n",
        "\n",
        "The arbitrage pricing theory (APT) goes beyond the CAPM model in incorporating multiple factors of risk instead of just the systematic one (market). These factors could be any macroeconomic variable such as inflation, interest rates, economic growth, etc. The formulation is:\n",
        "\n",
        "$$\n",
        "\\mathbb{E}(r_{\\text{asset}}) = r_{f} + \\beta_{1} f_{1} + \\beta_{2} f_{2}+ \\dots + \\beta_{n} f_{n}\n",
        "$$\n",
        "\n",
        "where\n",
        "* $f_{i}$ are the factor risk premiums\n",
        "* $\\beta_{i}$ are the sensitivities of the asset to these factors.\n",
        "\n",
        "**Fama-French Three-Factor Model**\n",
        "\n",
        "This model extends CAPM by adding two additional factors:\n",
        "1. The *SMB* (small minus big) factor, which represents the \"size premium.\" This is essentially the difference between small-cap and large-cap stocks.\n",
        "2. The *HML* (high minus low) factor, which measures the difference between the returns of the value and growth stocks.\n",
        "\n",
        "As with the CAPM and APT models, Fama-French also assumes linearity between expected returns and factors:\n",
        "\n",
        "$$\n",
        "\\mathbb{E}(r_{\\text{asset}}) = r_{f} + \\beta_{\\text{market}} (r_{m} - r_{f}) + \\beta_{size} \\cdot \\text{SMB} + \\beta_{\\text{value}} \\cdot \\text{HML}\n",
        "$$\n",
        "\n",
        "The three models above were merely mentioned to explain the notion of expected returns and its importance in calculating excess returns. Essentially, excess returns measure performance over a chosen benchmark, which can be an external index or the asset's own expected return based on models like CAPM or APT.\n"
      ]
    },
    {
      "cell_type": "markdown",
      "metadata": {
        "id": "UbKn24VMt-oD"
      },
      "source": [
        "## **3. Portfolio Sharpe Ratio and the Efficient Frontier**\n",
        "We have already mentioned what the Sharpe ratio is in the previous module. We will now illustrate the importance of the Sharpe ratio in the context of portfolio management. In order to do so, we will assume the assets of Lesson 1, and we will show where the highest Sharpe ratio portfolios are located with respect to the efficient frontier."
      ]
    },
    {
      "cell_type": "code",
      "execution_count": null,
      "metadata": {
        "id": "4RSjLqufuXCf"
      },
      "outputs": [],
      "source": [
        "assets = ['MSFT', 'AAPL', 'AMZN', 'TSLA', 'GOOGL'] # Assets for portfolio\n",
        "\n",
        "asset_prices = yf.download(assets, start='2018-01-01', end='2023-01-01', auto_adjust = False)['Adj Close'] # Downloading daily data\n",
        "asset_prices.index = pd.to_datetime(asset_prices.index.date)\n",
        "\n",
        "# Download risk-free rate data (3-month Treasury bill)\n",
        "risk_free = yf.download('^IRX', start='2018-01-01', end='2023-01-01', auto_adjust = False)['Adj Close']\n",
        "risk_free.index = pd.to_datetime(risk_free.index.date)\n",
        "\n",
        "\n",
        "r = asset_prices.pct_change().dropna() # Calculating daily percent returns"
      ]
    },
    {
      "cell_type": "code",
      "execution_count": null,
      "metadata": {
        "id": "2cLTNL9PuEBf"
      },
      "outputs": [],
      "source": [
        "# Figure 2\n",
        "weights = np.random.dirichlet(np.ones(5)*0.7, size = 20000) # Creating 20000 sets of weights using dirichlet distribution\n",
        "\n",
        "assert np.isclose(np.sum(weights, axis = 1), 1).all() # Check that each set of weights sum up to 1\n",
        "\n",
        "eff_front_dict = {}\n",
        "cov_matrix_ret = r.cov() * 252\n",
        "expected_returns = r.mean() * 252\n",
        "risk_free_rate = risk_free['^IRX'].mean() / 100 # The rates are already annualized\n",
        "\n",
        "# Filling the eff_front_dict\n",
        "for w in weights:\n",
        "  port_ret = expected_returns @ w.T # Annualized percent returns as expected returns\n",
        "  port_std = np.sqrt(w.T @ cov_matrix_ret @ w)\n",
        "  sharpe_ratio = (port_ret - risk_free_rate) / port_std\n",
        "  eff_front_dict[str(list(w))] = [port_ret, port_std, sharpe_ratio]\n",
        "\n",
        "eff_frontier_dataframe = pd.DataFrame(eff_front_dict, index = ['Returns', 'Standard Deviation', 'Sharpe Ratio']).T # Storing everything in one dataframe\n",
        "highest_sharpe_ratio = eff_frontier_dataframe.sort_values(by = 'Sharpe Ratio', ascending = False) # Sorting the portfolios with respect to Sharpe Ratio\n",
        "\n",
        "# Plot the portfolio returns vs portfolio variance\n",
        "plt.figure(figsize = (10,6))\n",
        "plt.scatter(x = eff_frontier_dataframe['Standard Deviation'], y = eff_frontier_dataframe['Returns'], alpha = 0.4)\n",
        "plt.scatter(x = r.std() * np.sqrt(252), y = expected_returns, color = 'red', label = \"Individual Assets\", alpha = 0.7)\n",
        "plt.scatter(x = highest_sharpe_ratio[:5000]['Standard Deviation'], y = highest_sharpe_ratio[:5000]['Returns'], color = 'purple', alpha = 0.2, label = \"The 5000 portfolios with the best Sharpe Ratio\" )\n",
        "plt.scatter(x = highest_sharpe_ratio[:1000]['Standard Deviation'], y = highest_sharpe_ratio[:1000]['Returns'], color = 'yellow', alpha = 0.3, label = \"The 1000 portfolios with the best Sharpe Ratio\" )\n",
        "plt.scatter(x = highest_sharpe_ratio[:100]['Standard Deviation'], y = highest_sharpe_ratio[:100]['Returns'], color = 'green', alpha = 0.3, label = \"The 100 portfolios with the best Sharpe Ratio\" )\n",
        "plt.scatter(x = highest_sharpe_ratio.iloc[0,:]['Standard Deviation'], y = highest_sharpe_ratio.iloc[0,:]['Returns'], color = 'black', alpha = 0.8, label = \"Best Sharpe Ratio portfolio\" )\n",
        "\n",
        "plt.title(\"Efficient Frontier\")\n",
        "plt.xlabel(\"Annual Portfolio Standard Deviation\")\n",
        "plt.ylabel(\"Annual Portfolio Returns\")\n",
        "plt.legend()\n",
        "plt.show()"
      ]
    },
    {
      "cell_type": "markdown",
      "metadata": {
        "id": "3G0cO8v2_Oqh"
      },
      "source": [
        "What we essentially see in Figure 2 is the efficient frontier, as explained in the previous lesson, onto which we have additionally plotted the highest Sharpe Ratio portfolios.\n",
        "\n",
        "More specifically, we illustrate where the 5000, 1000, and 100 portfolios with the highest Sharpe ratios are located and of course where the best Sharpe ratio portfolio is. As expected (?), those portfolios are on or very close to the efficient frontier, but to our surprise, they do not occupy the entire efficient frontier curve.\n",
        "\n",
        "-------------\n",
        "\n",
        "**Exercise 4**\n",
        "\n",
        "Explain why we expect that the best Sharpe ratio portfolio will be on the efficient frontier.\n",
        "\n",
        "**Exercise 5 (for discussion)**\n",
        "\n",
        "Use the `highest_sharpe_ratio` dataframe and print the 10 portfolios with the highest Sharpe ratio. If you look at the weights closely, you will observe that while the Sharpe ratios between these portfolios are very similar, the weights vary a lot. For example, the weight for the 1st asset in the 8th portfolio is 44.8%, but the weight for the same asset in the 7th portfolio is 18.7%. However, the difference in their Sharpe ratios is minimal. Think it over and then discuss with your peers in the forum the implications of the above observation on portfolio management: that several very different portfolios have almost identical Sharpe ratios.\n",
        "\n",
        "------------\n",
        "\n"
      ]
    },
    {
      "cell_type": "markdown",
      "metadata": {
        "id": "RwoU-igPbfSf"
      },
      "source": [
        "## **4. The Tangency Portfolio and the Tangent Line**\n",
        "\n",
        "Given the above observations, we can now give a definition for the best Sharpe ratio portfolio: the best Sharpe ratio portfolio, or the tangency portfolio, is the one that maximizes returns per unit of risk. **It provides the best risk-return tradeoff among all portfolios** (Elton et al.).\n",
        "\n",
        "Our discussion and illustrations of portfolios' efficient frontiers give the impression that the efficient frontier contains optimal portfolios. In the next section, we will discuss the capital market line in order to illustrate how the tangency portfolio along with the risk-free rate can be used in creating a series of portfolios that are superior to the efficient frontier.\n",
        "\n",
        "The tangent line, or the capital market line, is a key concept that arises from combining a risk-free asset with the tangency portfolio. Mathematically, the CML formulation is:\n",
        "\n",
        "$$\n",
        "r_{\\text{CML}} = r_{f} + \\frac{r_{T} - r_{f}}{\\sigma_{T}} \\cdot \\sigma_{P}\n",
        "$$\n",
        "\n",
        "where\n",
        "* $r_{\\text{CML}}$ is the expected return of any portfolio on the CML\n",
        "* $r_{T}$ is the return of the tangency portfolio (best Sharpe ratio portfolio)\n",
        "* $\\sigma_{T}$ is the std of the tangency portfolio\n",
        "* $\\sigma_{p}$ is the std of any portfolio on the CML\n",
        "\n",
        "Let's visualize the CML before providing some intuition behind its use:"
      ]
    },
    {
      "cell_type": "code",
      "execution_count": null,
      "metadata": {
        "id": "J0IvW_ujwpyp"
      },
      "outputs": [],
      "source": [
        "sigmas = np.linspace(0,0.7, 100)\n",
        "CML = risk_free_rate + highest_sharpe_ratio['Sharpe Ratio'].iloc[0] * sigmas # This is the Capital Market Line\n",
        "\n",
        "# Plot the portfolio returns vs portfolio variance\n",
        "plt.figure(figsize = (14,8))\n",
        "plt.scatter(x = eff_frontier_dataframe['Standard Deviation'], y = eff_frontier_dataframe['Returns'], alpha = 0.4)\n",
        "plt.scatter(x = r.std() * np.sqrt(252), y = expected_returns, color = 'red', label = \"Individual Assets\", alpha = 0.7)\n",
        "plt.scatter(x = highest_sharpe_ratio[:5000]['Standard Deviation'], y = highest_sharpe_ratio[:5000]['Returns'], color = 'purple', alpha = 0.2, label = \"The 5000 portfolios with the best Sharpe Ratio\" )\n",
        "plt.scatter(x = highest_sharpe_ratio[:1000]['Standard Deviation'], y = highest_sharpe_ratio[:1000]['Returns'], color = 'yellow', alpha = 0.3, label = \"The 1000 portfolios with the best Sharpe Ratio\" )\n",
        "plt.scatter(x = highest_sharpe_ratio[:100]['Standard Deviation'], y = highest_sharpe_ratio[:100]['Returns'], color = 'green', alpha = 0.3, label = \"The 100 portfolios with the best Sharpe Ratio\" )\n",
        "plt.scatter(x = highest_sharpe_ratio.iloc[0,:]['Standard Deviation'], y = highest_sharpe_ratio.iloc[0,:]['Returns'], color = 'black', alpha = 0.8, label = \"Best Sharpe Ratio portfolio\" )\n",
        "plt.scatter(x = (risk_free / 252).std(), y = risk_free_rate, color = 'black', alpha = 0.8, marker = '*', label = \"Risk Free asset\", s = 105)\n",
        "plt.plot(sigmas, CML, color = 'black', label = \"Capital Market Line\", alpha = 0.7)\n",
        "\n",
        "\n",
        "plt.title(\"Efficient Frontier\")\n",
        "plt.xlabel(\"Annual Portfolio Standard Deviation\")\n",
        "plt.ylabel(\"Annual Portfolio Returns\")\n",
        "plt.legend()\n",
        "plt.show()"
      ]
    },
    {
      "cell_type": "markdown",
      "metadata": {
        "id": "3GqqEGH6tJwq"
      },
      "source": [
        "First of all, we need to observe that **the slope of the CML line is the Sharpe ratio** of the tangency portfolio and that the CML represents a crucial improvement over the efficient frontier. But how are the portfolios of the CML constructed? Let's rearrange the CML formulation as such:\n",
        "\n",
        "$$\n",
        "r_{\\text{CML}} = r_{f} \\left ( 1 - \\frac{\\sigma_{P}}{\\sigma_{T}} \\right ) + r_{T} \\left ( \\frac{\\sigma_{P}}{\\sigma_{T}} \\right )\n",
        "$$\n",
        "\n",
        "Simply by combining the risk-free asset with the tangency portfolio and assigning the next weights:\n",
        "* Tangency portfolio weight: $w_{T} = \\frac{\\sigma_{P}}{\\sigma_{T}}$\n",
        "* Risk-free weight: $w_{f} = 1 - \\frac{\\sigma_{P}}{\\sigma_{T}}$\n",
        "\n",
        "There will be more on this in the Portfolio Management course."
      ]
    },
    {
      "cell_type": "markdown",
      "metadata": {
        "id": "Rf_Zkd_sLRKs"
      },
      "source": [
        "## **5. Value at Risk (VaR)**\n",
        "\n",
        "Knowing the variance and standard deviation is a big help when it comes to risk. Doing so can help us calculate one of the several ways we can measure risk by using **Value at Risk**.\n",
        "\n",
        "Value at Risk is one of the easiest risk metrics to interpret. So far, the metrics we have introduced quantify risk as a percentage, in the case of standard deviation, or in units, as the Sharpe ratio does. Value at Risk answers the fundamental question many investors have on their mind: how much can I lose on an investment in the worst-case scenario? This is measured in dollars for the purposes of this class.\n",
        "\n",
        "Value at Risk measures the potential loss in value of an asset/portfolio over a defined time period. Basically, you will always need to specify the time period and confidence interval that accompanies a Value at Risk. For example, if the VaR of a portfolio is \\\\$1,000,000 over a yearly time period with a 99\\% confidence interval, it would mean that the portfolio only has a 1\\% chance of losing more than \\\\$1,000,000 for any given year. VaR has become ubiquitous over the years; every investment bank and risk management firm employs some form of VaR to help keep a cap on the potential losses one can incur. The focus on VaR is very much about downside risk unlike something like standard deviation, which looks at both the upside and downside risk.\n",
        "\n",
        "There are three basic methods for calculating VaR, each with their own advantages and disadvantages. These build on some of the lessons from earlier, like variance and covariance. Keep in mind that there are countless variations of each basic method, but we will stick with these main three for now:\n",
        "\n",
        "* Historical Method\n",
        "* Parametric Method\n",
        "* Monte Carlo Simulation\n",
        "\n",
        "## **6. VaR Using the Historical Method**\n",
        "\n",
        "This is probably the simplest and most intuitive method of calculating Value at Risk. In short, historical returns are sorted from lowest to highest on an asset or portfolio. Let's say you want to calculate the daily Value at Risk on an equity with a 95% confidence interval. Assuming we can look at the last thousand days of data for this stock, we would take the daily returns and sort them from lowest to highest. From here, we would take the return from the 5th percentile of the data. In this case, with 1,000 days of data, it would be the 50th (0.05\\*1000) worst daily return from these thousand days. Let's say the 50th worst day had a –4% return. From this, we can assume that the daily VaR for this stock with a 95% confidence interval is –4%. Building on that, if we were to invest \\\\$1,000 in said stock, we would expect the worst daily loss to be:\n",
        "\n",
        "-0.04\\*1000 = -\\\\$40  with a 95% confidence interval\n",
        "\n",
        "Considerations for this method:\n",
        "\n",
        "* This method uses historical returns to measure VaR empirically, which means that there are no assumptions made about the distribution whereas many models assume the normal distribution.\n",
        "* Each day for this method is given equal weight, which means if there is a trend in the volatility, you could be overstating or understating the VaR depending on whether the volatility trend is down or up, respectively. One refinement to combat this could be to place greater weight on more recent data.\n",
        "* Past data does not necessarily indicate what will happen in the future. While the other methods also rely on historical data to a certain extent, this method is solely derived from past historical returns. There are many unforeseen events that can happen, which can change the course of a stock's trajectory and cause the stock to trade differently than it did in the past.\n",
        "\n",
        "### **6.1 Implementing Value at Risk (VaR) - Historical Method**\n",
        "\n",
        "Calculating daily historical VaR can be done pretty simply in Python. The order of steps needed is as follows:\n",
        "1. Calculate all daily returns.\n",
        "2. Sort these returns from least to greatest.\n",
        "3. Based on a given confidence level, return the corresponding percentile return. In other words, if we want to calculate daily VaR at a 95% confidence level and we are using 100 data points, the 5th smallest return of that sample would be considered our 95% VaR.\n",
        "\n",
        "Let's visualize this first with a histogram using Bitcoin."
      ]
    },
    {
      "cell_type": "code",
      "execution_count": null,
      "metadata": {
        "id": "L2rDaowlOCze"
      },
      "outputs": [],
      "source": [
        "# Figure 1\n",
        "btcusd = yf.download(\"BTC-USD\", start=\"2014-09-18\", end=\"2022-12-31\", auto_adjust = False)['Adj Close']\n",
        "btcusd_returns = btcusd.pct_change().dropna()\n",
        "\n",
        "plt.hist(x = btcusd_returns, bins=50, log = True, alpha = 0.7)\n",
        "plt.xlabel('Daily Returns')\n",
        "plt.ylabel('Frequency')\n",
        "plt.title('Histogram of BTCUSD Daily Returns')\n",
        "plt.show()"
      ]
    },
    {
      "cell_type": "markdown",
      "metadata": {
        "id": "5zSPNVbDSyv5"
      },
      "source": [
        "In order to have a better visualization of the extreme events, we used a logarithmic scale for the $y$ axis. Let's calculate the historical VaR from this data.\n",
        "\n",
        "The next function `getHistoricalVar()` takes two arguments:\n",
        "1. a series of daily returns\n",
        "2. a confidence level, 95 for example, would correspond to 95% confidence"
      ]
    },
    {
      "cell_type": "code",
      "execution_count": null,
      "metadata": {
        "id": "bgklULASR6yF"
      },
      "outputs": [],
      "source": [
        "def getHistoricalVar(returns, confidenceLevel):\n",
        "    var = np.quantile(returns, 1 - confidenceLevel)\n",
        "    print(\n",
        "        f\"The Historical VaR with confidence {confidenceLevel} is {round(100 * var, 3)}% \\n\"\n",
        "    )\n",
        "\n",
        "getHistoricalVar(btcusd_returns, 0.90)\n",
        "getHistoricalVar(btcusd_returns, 0.95)\n",
        "getHistoricalVar(btcusd_returns, 0.99)"
      ]
    },
    {
      "cell_type": "markdown",
      "metadata": {
        "id": "yfDnfDu9PsXl"
      },
      "source": [
        "After running the function, we can see that the greater we make our confidence level, the lower the Value at Risk will be. This is a useful tool when determining how much a financial asset can lose over a certain time period.\n",
        "\n",
        "You may be wondering now, since we only use a 95% confidence level, what happens on those 5% of days where losses exceed -6.02%. We can use another handy metric, Conditional Value at Risk (CVaR), to deal with these situations."
      ]
    },
    {
      "cell_type": "markdown",
      "metadata": {
        "id": "39wLLxdNP1qR"
      },
      "source": [
        "### **6.2 Conditional Value at Risk (CVaR) using Historical Data**\n",
        "\n",
        "Conditional Value at Risk (CVaR), also known as Expected Shortfall (ES), is a widely used risk measure in financial risk management. While Value at Risk (VaR) estimates the loss over a specific time horizon given a confidence level (e.g., 99%), CVaR goes beyond VaR by providing the expected loss if the VaR is exceeded. In other words, CVaR calculates the average loss in the tail of the distribution beyond the VaR threshold.\n",
        "\n",
        "Mathematically, the CVaR at confidence level $\\alpha$ is:\n",
        "\n",
        "$$\n",
        "\\text{CVaR}_{\\alpha} = \\mathbb{E}[L|L>\\text{VaR}_{\\alpha}]\n",
        "$$\n",
        "\n",
        "where $L$ represents the losses.\n",
        "\n",
        "Historical CVaR is a non-parametric approach, which means that it does not rely on distribution assumptions for the returns. Instead, we can directly calculate the expectation of the losses after we have obtained the VaR. In practice, we can calculate the mean of the returns that are located to the left of the VaR."
      ]
    },
    {
      "cell_type": "code",
      "execution_count": null,
      "metadata": {
        "id": "eF7NjXA1GMZQ"
      },
      "outputs": [],
      "source": [
        "def getHistoricalCVar(returns, confidenceLevel):\n",
        "    var = np.quantile(returns, 1 - confidenceLevel)\n",
        "    cvar = returns[returns <= var].mean()\n",
        "    print(\n",
        "        f\"With {confidenceLevel} percent confidence VaR, our Expected Shortfall is {round(100 * cvar, 3)} using historical VaR \\n\"\n",
        "    )\n",
        "\n",
        "getHistoricalCVar(btcusd_returns, 0.90)\n",
        "getHistoricalCVar(btcusd_returns, 0.95)\n",
        "getHistoricalCVar(btcusd_returns, 0.99)"
      ]
    },
    {
      "cell_type": "markdown",
      "metadata": {
        "id": "_BEUNfWYRdAI"
      },
      "source": [
        "## **7. VaR Using the Parametric Method**\n",
        "\n",
        "Parametric VaR is a method of calculating Value at Risk assuming that the returns follow a specific probability distribution. In the standard variation, a normal distribution is assumed, but one can use other distributions as well, as we will see in the second example where we assume a t-distribution.\n",
        "\n",
        "### **7.1 Normal Distribution Parametric VaR**\n",
        "\n",
        "In the case of a normal distribution, the use of a Z-table is essential in calculating the VaR. While performing the task, we need to always take into account that the risk refers to the **left tail**.\n",
        "\n",
        "$$\n",
        "\\text{VaR} = \\mu + \\sigma Z_{\\alpha}\n",
        "$$\n",
        "\n",
        "where\n",
        "* $\\mu$ is the mean return\n",
        "* $\\sigma$ is the standard deviation of returns\n",
        "* $Z_{\\alpha}$ is the Z-score that corresponds to the confidence interval\n",
        "\n",
        "\n",
        "\n",
        "Considerations for this method:\n",
        "\n",
        "* If returns are not normally distributed, you will likely be underestimating the true Value at Risk. For example, many stocks have more outliers than the normal distribution would assume; this means the computed Value at Risk will be lower than what it is in actuality.\n",
        "* Variance and covariance between return streams must be considered when computing VaR for a portfolio. Even if returns are normally distributed, the VaR calculation can still be thrown off if the estimated variances and covariances are incorrect. This can be further amplified if variances and covariances are changing over time.\n",
        "* Models that allow variance to change over time (heteroskedasticity) display a greater degree of accuracy. Engle has argued that autoregressive conditional heteroskedasticity (ARCH) and generalized autoregressive conditional heteroskedasticity (GARCH) models provide better forecasts of variance and, by extension, better measures of Value at Risk.\n",
        "* This method breaks down whenever a portfolio has assets with a non-linear payoff structure, e.g., options.\n",
        "\n",
        "### **7.2 Implementing Parametric VaR with Normal Distribution**\n",
        "\n",
        "While it's well-established that financial returns, particularly for equities, often exhibit non-normal characteristics, such as skewness and fat tails, this parametric approach still holds significant value in financial risk management. The normal distribution assumption provides an efficient way to estimate risk, making it highly useful in situations where quick approximations are needed or can be used in conjunction with other models.\n",
        "\n",
        "To calculate Value at Risk (VaR) using the parametric method, we will leverage the `norm.ppf()` function from Python’s `scipy.stats` module. The percent point function (ppf) is actually the inverse cumulative distribution function (CDF), and it allows us to compute the quantile that corresponds to a given confidence level."
      ]
    },
    {
      "cell_type": "code",
      "execution_count": null,
      "metadata": {
        "id": "SfurPZeVzLyR"
      },
      "outputs": [],
      "source": [
        "mean = btcusd_returns.mean()\n",
        "std = btcusd_returns.std()\n",
        "\n",
        "var_90 = stats.norm.ppf(0.1, mean, std)[0]\n",
        "var_95 = stats.norm.ppf(0.05, mean, std)[0]\n",
        "var_99 = stats.norm.ppf(0.01, mean, std)[0]\n",
        "\n",
        "print(f\"The parametric VaR assuming a normal distribution with a 90% confidence interval, is {round(100 * var_90, 3)} \\n\")\n",
        "print(f\"The parametric VaR assuming a normal distribution with a 95% confidence interval, is {round(100 * var_95, 3)} \\n\")\n",
        "print(f\"The parametric VaR assuming a normal distribution with a 99% confidence interval, is {round(100 * var_99, 3)} \\n\")\n"
      ]
    },
    {
      "cell_type": "markdown",
      "metadata": {
        "id": "kgnlrHJG0FTf"
      },
      "source": [
        "Excess kurtosis observed in asset return distributions indicates that the normal distribution is not the best choice to represent the returns, especially in the tails. Their fat-tailed nature indicates a higher probability of extreme outcomes, in many cases a lot higher than what a normal distribution predicts. The latter forces us to employ a heavy-tailed distribution like the Student's t-distribution.\n",
        "\n",
        "------------\n",
        "**Exercise 6**\n",
        "\n",
        "Calculate the Kurtosis of BTCUSD returns and make sure you understand the effects of high kurtosis on the tails. Then argue about the reason the normal distribution seems to underestimate the VaRs in comparison to the historical method.\n",
        "\n",
        "**Exercise 7 (discussion)**\n",
        "\n",
        "Check the BTCUSD histogram presented in Figure 1. Make sure you also print the first 10 returns after you have sorted them with `ascending = True`. Elaborate on the gaps between the returns (as data points) of the left tail: does our sample adequately represent the left tail?\n",
        "\n",
        "-------------\n",
        "\n",
        "In the next section, we will delve into how the Student's t-distribution can be utilized in Value at Risk (VaR) calculations, offering a more accurate assessment of risk for assets exhibiting fat tails."
      ]
    },
    {
      "cell_type": "markdown",
      "metadata": {
        "id": "22ULcsKeZquk"
      },
      "source": [
        "### **7.3 Implementing Parametric VaR with $t$-distribution**\n",
        "\n",
        "The Student's t-distribution is commonly used as an alternative to the normal distribution when modeling data with fat tails. The degrees of freedom parameter controls the heaviness of the tails. As the degrees of freedom increase, the t-distribution approaches the normal distribution. For smaller degrees of freedom (dof), the tails become heavier, indicating a higher probability of extreme values."
      ]
    },
    {
      "cell_type": "code",
      "execution_count": null,
      "metadata": {
        "id": "ds6yA21IakpE"
      },
      "outputs": [],
      "source": [
        "# degrees of freedom\n",
        "\n",
        "def getTVar(returns, dof, confidenceLevel):\n",
        "    mean = returns.mean()\n",
        "    std = returns.std()\n",
        "    var = np.sqrt((dof - 2) / dof) * stats.t.ppf(1 - confidenceLevel, dof) * std + mean\n",
        "    return (100 * var).round(3)\n",
        "\n",
        "print(f\"The parametric VaR using t-distribution with a confidence interval 0.9, is {getTVar(btcusd_returns, 5, 0.9)}% \\n\")\n",
        "print(f\"The parametric VaR using t-distribution with a confidence interval 0.95, is {getTVar(btcusd_returns, 5, 0.95)}% \\n\")\n",
        "print(f\"The parametric VaR using t-distribution with a confidence interval 0.99, is {getTVar(btcusd_returns, 5, 0.99)}% \\n\")"
      ]
    },
    {
      "cell_type": "markdown",
      "metadata": {
        "id": "jxUhOCUn_DHG"
      },
      "source": [
        "## **8. VaR Using Monte Carlo Simulation**\n",
        "\n",
        "In the previous sections, we discussed how one can use historical data on financial series to compute the Value at Risk. But what if we have incomplete or insufficient data to do so? In this case, we can hypothesize a distribution that generates the data and run simulations using those distributional assumptions. This method is called *Monte Carlo VaR*.\n",
        "\n",
        "\n",
        "The Monte Carlo VaR includes a series of simulations, where each return stream is represented as a random variable. This variable can be taken from any probability distribution, which is great because that means it doesn't necessarily assume a normal distribution. There is a lot of flexibility in choosing what kind of distribution to use. All the variables are then dollar-weighted and simulated to see what the total portfolio value is at the end of each run. These simulation returns are then sorted lowest to highest, and we can easily look to see what the Value at Risk is using similar computations to the historical method, except this time, we're using simulated returns instead of historical returns. For example, if you ran a series of 1,000 simulations, you would look at the 50th lowest value to determine the VaR for a 95% confidence interval.\n",
        "\n",
        "\n",
        "\n",
        "Considerations for this method:\n",
        "* Estimations will not be effective if the probability distributions used to determine the random variables are incorrect. Many use past data to get an idea of what the probability distribution should be; this method allows for some subjectivity.\n",
        "* You can estimate VaR more effectively for portfolios containing options with this method versus the parametric method since Monte Carlo doesn't assume a normal distribution of returns.\n"
      ]
    },
    {
      "cell_type": "code",
      "execution_count": null,
      "metadata": {
        "id": "C95_YjcwGs3-"
      },
      "outputs": [],
      "source": [
        "# Parameters\n",
        "initial_investment = 100000  # Initial portfolio value (in dollars)\n",
        "mean_return = 0.0005  # Daily mean return of the asset (e.g., 0.05%)\n",
        "volatility = 0.02  # Daily volatility (not annual!) is 2%\n",
        "days = 1  # 1 day time horizon\n",
        "num_simulations = 10000  # Number of Monte Carlo simulations\n",
        "confidence_level = 0.95  # Confidence level for VaR (e.g., 95%)\n",
        "\n",
        "# Generate random returns based on normal distribution\n",
        "np.random.seed(2024)  # For reproducibility\n",
        "random_returns = np.random.normal(loc=mean_return * days, scale=volatility * np.sqrt(days), size=num_simulations)\n",
        "\n",
        "# Calculate portfolio values at the end of the simulation\n",
        "portfolio_end_values = initial_investment * (1 + random_returns)\n",
        "\n",
        "# Calculate profit and loss (P&L)\n",
        "portfolio_pnl = portfolio_end_values - initial_investment\n",
        "\n",
        "# Calculate the VaR at the specified confidence level\n",
        "VaR = np.percentile(portfolio_pnl, (1 - confidence_level) * 100)\n",
        "\n",
        "# Output the results\n",
        "print(f\"Value at Risk (VaR) at {confidence_level * 100}% confidence level: -${abs(VaR):,.2f}\")\n",
        "\n",
        "#Plot the distribution of portfolio P&L\n",
        "plt.figure(figsize=(10, 6))\n",
        "plt.hist(portfolio_pnl, bins=50, edgecolor='black', alpha=0.7)\n",
        "plt.axvline(x=VaR, color='r', linestyle='dashed', linewidth=2)\n",
        "plt.title(f\"Monte Carlo Simulation of Portfolio P&L (VaR at {confidence_level * 100}% Confidence Level)\")\n",
        "plt.xlabel('Profit & Loss ($)')\n",
        "plt.ylabel('Frequency')\n",
        "plt.grid(True)\n",
        "plt.show()"
      ]
    },
    {
      "cell_type": "markdown",
      "metadata": {
        "id": "PRo2wFOGtwFg"
      },
      "source": [
        "## **9. Conclusion**\n",
        "\n",
        "In this lesson, we've introduced a wide range of important concepts in financial risk analysis. We started by examining different types of returns, including total returns, dividend-adjusted returns, and excess returns, which form the foundation for more advanced risk metrics. We then explored the Sharpe Ratio and showcased how important this ratio is in the portfolio management context.\n",
        "\n",
        "The latter part of the lesson focused on downside risk metrics, particularly Value at Risk (VaR). We covered various methods for calculating VaR, including historical, parametric (with both normal and t-distributions), and Monte Carlo simulation approaches. We also introduced the concept of Conditional Value at Risk (CVaR) as an extension of VaR."
      ]
    },
    {
      "cell_type": "markdown",
      "metadata": {
        "id": "tc5hPXUZ-MNG"
      },
      "source": [
        "**References**\n",
        "\n",
        "* Elton, Edwin J., et al. *Modern Portfolio Theory and Investment Analysis*. John Wiley & Sons, 2009.\n",
        "\n",
        "* Engle, Robert. \"GARCH 101: The Use of ARCH/GARCH Models in Applied Econometrics.\" *The Journal of Economic Perspectives*, vol. 15, no. 4, 2001, pp. 157–168."
      ]
    },
    {
      "cell_type": "markdown",
      "metadata": {
        "deletable": false,
        "editable": false,
        "id": "KvTOJQ-GFrc1"
      },
      "source": [
        "---\n",
        "Copyright 2024 WorldQuant University. This\n",
        "content is licensed solely for personal use. Redistribution or\n",
        "publication of this material is strictly prohibited.\n"
      ]
    },
    {
      "cell_type": "markdown",
      "metadata": {
        "id": "167944f4"
      },
      "source": [
        "# Task\n",
        "Download historical stock data for an asset that has undergone splits and paid dividends using the AlphaVantage API and the provided API key \"2SSA3FS8U46QZ17K\", calculate the adjusted close price using the Yahoo methodology, and visualize the original and adjusted close prices."
      ]
    },
    {
      "cell_type": "markdown",
      "metadata": {
        "id": "4e66373c"
      },
      "source": [
        "## Install alphavantage library\n",
        "\n",
        "### Subtask:\n",
        "Install the necessary Python library to interact with the AlphaVantage API.\n"
      ]
    },
    {
      "cell_type": "markdown",
      "metadata": {
        "id": "53a4d695"
      },
      "source": [
        "**Reasoning**:\n",
        "The subtask is to install the `alpha_vantage` library. The `pip install` command is used for this purpose.\n",
        "\n"
      ]
    },
    {
      "cell_type": "code",
      "metadata": {
        "colab": {
          "base_uri": "https://localhost:8080/"
        },
        "id": "cb82fe08",
        "outputId": "59ba6865-a161-4069-9cc4-af34c449316d"
      },
      "source": [
        "%pip install alpha_vantage"
      ],
      "execution_count": null,
      "outputs": [
        {
          "output_type": "stream",
          "name": "stdout",
          "text": [
            "Collecting alpha_vantage\n",
            "  Downloading alpha_vantage-3.0.0-py3-none-any.whl.metadata (12 kB)\n",
            "Requirement already satisfied: aiohttp in /usr/local/lib/python3.11/dist-packages (from alpha_vantage) (3.11.15)\n",
            "Requirement already satisfied: requests in /usr/local/lib/python3.11/dist-packages (from alpha_vantage) (2.32.3)\n",
            "Requirement already satisfied: aiohappyeyeballs>=2.3.0 in /usr/local/lib/python3.11/dist-packages (from aiohttp->alpha_vantage) (2.6.1)\n",
            "Requirement already satisfied: aiosignal>=1.1.2 in /usr/local/lib/python3.11/dist-packages (from aiohttp->alpha_vantage) (1.3.2)\n",
            "Requirement already satisfied: attrs>=17.3.0 in /usr/local/lib/python3.11/dist-packages (from aiohttp->alpha_vantage) (25.3.0)\n",
            "Requirement already satisfied: frozenlist>=1.1.1 in /usr/local/lib/python3.11/dist-packages (from aiohttp->alpha_vantage) (1.7.0)\n",
            "Requirement already satisfied: multidict<7.0,>=4.5 in /usr/local/lib/python3.11/dist-packages (from aiohttp->alpha_vantage) (6.4.4)\n",
            "Requirement already satisfied: propcache>=0.2.0 in /usr/local/lib/python3.11/dist-packages (from aiohttp->alpha_vantage) (0.3.2)\n",
            "Requirement already satisfied: yarl<2.0,>=1.17.0 in /usr/local/lib/python3.11/dist-packages (from aiohttp->alpha_vantage) (1.20.1)\n",
            "Requirement already satisfied: charset-normalizer<4,>=2 in /usr/local/lib/python3.11/dist-packages (from requests->alpha_vantage) (3.4.2)\n",
            "Requirement already satisfied: idna<4,>=2.5 in /usr/local/lib/python3.11/dist-packages (from requests->alpha_vantage) (3.10)\n",
            "Requirement already satisfied: urllib3<3,>=1.21.1 in /usr/local/lib/python3.11/dist-packages (from requests->alpha_vantage) (2.4.0)\n",
            "Requirement already satisfied: certifi>=2017.4.17 in /usr/local/lib/python3.11/dist-packages (from requests->alpha_vantage) (2025.6.15)\n",
            "Downloading alpha_vantage-3.0.0-py3-none-any.whl (35 kB)\n",
            "Installing collected packages: alpha_vantage\n",
            "Successfully installed alpha_vantage-3.0.0\n"
          ]
        }
      ]
    },
    {
      "cell_type": "markdown",
      "metadata": {
        "id": "4ed6a8c1"
      },
      "source": [
        "## Define alphavantage api key\n",
        "\n",
        "### Subtask:\n",
        "Store the provided API key in a variable.\n"
      ]
    },
    {
      "cell_type": "markdown",
      "metadata": {
        "id": "ecc2affa"
      },
      "source": [
        "**Reasoning**:\n",
        "Store the provided API key in a variable as requested.\n",
        "\n"
      ]
    },
    {
      "cell_type": "code",
      "metadata": {
        "id": "8b7f35c2"
      },
      "source": [
        "api_key = \"2SSA3FS8U46QZ17K\""
      ],
      "execution_count": null,
      "outputs": []
    },
    {
      "cell_type": "markdown",
      "metadata": {
        "id": "39f771b6"
      },
      "source": [
        "## Download historical stock data\n",
        "\n",
        "### Subtask:\n",
        "Use the AlphaVantage API to download historical data (including close price, dividends, and splits) for an asset that has undergone splits and paid dividends.\n"
      ]
    },
    {
      "cell_type": "markdown",
      "metadata": {
        "id": "7908c60c"
      },
      "source": [
        "**Reasoning**:\n",
        "Import the necessary class from alpha_vantage and download the historical stock data for AAPL using the API key.\n",
        "\n"
      ]
    },
    {
      "cell_type": "code",
      "metadata": {
        "colab": {
          "base_uri": "https://localhost:8080/",
          "height": 219
        },
        "id": "db9a30a2",
        "outputId": "a9dd2f82-0afc-4ed5-a833-84ae0f72eaeb"
      },
      "source": [
        "from alpha_vantage.timeseries import TimeSeries\n",
        "\n",
        "ts = TimeSeries(key=api_key, outputsize='full')\n",
        "data, meta_data = ts.get_daily_adjusted('AAPL', outputsize='full', datatype='csv')\n",
        "\n",
        "df_aapl = data.copy()\n",
        "df_aapl.index = pd.to_datetime(df_aapl.index)\n",
        "\n",
        "display(df_aapl.head())\n",
        "display(df_aapl.info())"
      ],
      "execution_count": null,
      "outputs": [
        {
          "output_type": "error",
          "ename": "TypeError",
          "evalue": "AlphaVantage.__init__() got an unexpected keyword argument 'outputsize'",
          "traceback": [
            "\u001b[0;31m---------------------------------------------------------------------------\u001b[0m",
            "\u001b[0;31mTypeError\u001b[0m                                 Traceback (most recent call last)",
            "\u001b[0;32m/tmp/ipython-input-8-1871460594.py\u001b[0m in \u001b[0;36m<cell line: 0>\u001b[0;34m()\u001b[0m\n\u001b[1;32m      1\u001b[0m \u001b[0;32mfrom\u001b[0m \u001b[0malpha_vantage\u001b[0m\u001b[0;34m.\u001b[0m\u001b[0mtimeseries\u001b[0m \u001b[0;32mimport\u001b[0m \u001b[0mTimeSeries\u001b[0m\u001b[0;34m\u001b[0m\u001b[0;34m\u001b[0m\u001b[0m\n\u001b[1;32m      2\u001b[0m \u001b[0;34m\u001b[0m\u001b[0m\n\u001b[0;32m----> 3\u001b[0;31m \u001b[0mts\u001b[0m \u001b[0;34m=\u001b[0m \u001b[0mTimeSeries\u001b[0m\u001b[0;34m(\u001b[0m\u001b[0mkey\u001b[0m\u001b[0;34m=\u001b[0m\u001b[0mapi_key\u001b[0m\u001b[0;34m,\u001b[0m \u001b[0moutputsize\u001b[0m\u001b[0;34m=\u001b[0m\u001b[0;34m'full'\u001b[0m\u001b[0;34m)\u001b[0m\u001b[0;34m\u001b[0m\u001b[0;34m\u001b[0m\u001b[0m\n\u001b[0m\u001b[1;32m      4\u001b[0m \u001b[0mdata\u001b[0m\u001b[0;34m,\u001b[0m \u001b[0mmeta_data\u001b[0m \u001b[0;34m=\u001b[0m \u001b[0mts\u001b[0m\u001b[0;34m.\u001b[0m\u001b[0mget_daily_adjusted\u001b[0m\u001b[0;34m(\u001b[0m\u001b[0;34m'AAPL'\u001b[0m\u001b[0;34m,\u001b[0m \u001b[0moutputsize\u001b[0m\u001b[0;34m=\u001b[0m\u001b[0;34m'full'\u001b[0m\u001b[0;34m,\u001b[0m \u001b[0mdatatype\u001b[0m\u001b[0;34m=\u001b[0m\u001b[0;34m'csv'\u001b[0m\u001b[0;34m)\u001b[0m\u001b[0;34m\u001b[0m\u001b[0;34m\u001b[0m\u001b[0m\n\u001b[1;32m      5\u001b[0m \u001b[0;34m\u001b[0m\u001b[0m\n",
            "\u001b[0;31mTypeError\u001b[0m: AlphaVantage.__init__() got an unexpected keyword argument 'outputsize'"
          ]
        }
      ]
    },
    {
      "cell_type": "markdown",
      "metadata": {
        "id": "49465600"
      },
      "source": [
        "**Reasoning**:\n",
        "The error indicates that the `TimeSeries` class constructor does not accept the `outputsize` argument. The `outputsize` and `datatype` arguments should be passed to the `get_daily_adjusted` method instead.\n",
        "\n"
      ]
    },
    {
      "cell_type": "code",
      "metadata": {
        "colab": {
          "base_uri": "https://localhost:8080/",
          "height": 370
        },
        "id": "rMB9_BMZece9",
        "outputId": "81078604-354f-43e2-9913-ceba511abb12"
      },
      "source": [
        "from alpha_vantage.timeseries import TimeSeries\n",
        "\n",
        "ts = TimeSeries(key=api_key)\n",
        "data, meta_data = ts.get_daily_adjusted('AAPL', outputsize='full', datatype='csv')\n",
        "\n",
        "df_aapl = data.copy()\n",
        "df_aapl.index = pd.to_datetime(df_aapl.index)\n",
        "\n",
        "display(df_aapl.head())\n",
        "display(df_aapl.info())"
      ],
      "execution_count": null,
      "outputs": [
        {
          "output_type": "error",
          "ename": "TypeError",
          "evalue": "TimeSeries.get_daily_adjusted() got an unexpected keyword argument 'datatype'",
          "traceback": [
            "\u001b[0;31m---------------------------------------------------------------------------\u001b[0m",
            "\u001b[0;31mTypeError\u001b[0m                                 Traceback (most recent call last)",
            "\u001b[0;32m/tmp/ipython-input-9-3114936335.py\u001b[0m in \u001b[0;36m<cell line: 0>\u001b[0;34m()\u001b[0m\n\u001b[1;32m      2\u001b[0m \u001b[0;34m\u001b[0m\u001b[0m\n\u001b[1;32m      3\u001b[0m \u001b[0mts\u001b[0m \u001b[0;34m=\u001b[0m \u001b[0mTimeSeries\u001b[0m\u001b[0;34m(\u001b[0m\u001b[0mkey\u001b[0m\u001b[0;34m=\u001b[0m\u001b[0mapi_key\u001b[0m\u001b[0;34m)\u001b[0m\u001b[0;34m\u001b[0m\u001b[0;34m\u001b[0m\u001b[0m\n\u001b[0;32m----> 4\u001b[0;31m \u001b[0mdata\u001b[0m\u001b[0;34m,\u001b[0m \u001b[0mmeta_data\u001b[0m \u001b[0;34m=\u001b[0m \u001b[0mts\u001b[0m\u001b[0;34m.\u001b[0m\u001b[0mget_daily_adjusted\u001b[0m\u001b[0;34m(\u001b[0m\u001b[0;34m'AAPL'\u001b[0m\u001b[0;34m,\u001b[0m \u001b[0moutputsize\u001b[0m\u001b[0;34m=\u001b[0m\u001b[0;34m'full'\u001b[0m\u001b[0;34m,\u001b[0m \u001b[0mdatatype\u001b[0m\u001b[0;34m=\u001b[0m\u001b[0;34m'csv'\u001b[0m\u001b[0;34m)\u001b[0m\u001b[0;34m\u001b[0m\u001b[0;34m\u001b[0m\u001b[0m\n\u001b[0m\u001b[1;32m      5\u001b[0m \u001b[0;34m\u001b[0m\u001b[0m\n\u001b[1;32m      6\u001b[0m \u001b[0mdf_aapl\u001b[0m \u001b[0;34m=\u001b[0m \u001b[0mdata\u001b[0m\u001b[0;34m.\u001b[0m\u001b[0mcopy\u001b[0m\u001b[0;34m(\u001b[0m\u001b[0;34m)\u001b[0m\u001b[0;34m\u001b[0m\u001b[0;34m\u001b[0m\u001b[0m\n",
            "\u001b[0;32m/usr/local/lib/python3.11/dist-packages/alpha_vantage/alphavantage.py\u001b[0m in \u001b[0;36m_format_wrapper\u001b[0;34m(self, *args, **kwargs)\u001b[0m\n\u001b[1;32m    216\u001b[0m         \u001b[0;34m@\u001b[0m\u001b[0mwraps\u001b[0m\u001b[0;34m(\u001b[0m\u001b[0mfunc\u001b[0m\u001b[0;34m)\u001b[0m\u001b[0;34m\u001b[0m\u001b[0;34m\u001b[0m\u001b[0m\n\u001b[1;32m    217\u001b[0m         \u001b[0;32mdef\u001b[0m \u001b[0m_format_wrapper\u001b[0m\u001b[0;34m(\u001b[0m\u001b[0mself\u001b[0m\u001b[0;34m,\u001b[0m \u001b[0;34m*\u001b[0m\u001b[0margs\u001b[0m\u001b[0;34m,\u001b[0m \u001b[0;34m**\u001b[0m\u001b[0mkwargs\u001b[0m\u001b[0;34m)\u001b[0m\u001b[0;34m:\u001b[0m\u001b[0;34m\u001b[0m\u001b[0;34m\u001b[0m\u001b[0m\n\u001b[0;32m--> 218\u001b[0;31m             call_response, data_key, meta_data_key = func(\n\u001b[0m\u001b[1;32m    219\u001b[0m                 self, *args, **kwargs)\n\u001b[1;32m    220\u001b[0m             \u001b[0;32mif\u001b[0m \u001b[0;34m'json'\u001b[0m \u001b[0;32min\u001b[0m \u001b[0mself\u001b[0m\u001b[0;34m.\u001b[0m\u001b[0moutput_format\u001b[0m\u001b[0;34m.\u001b[0m\u001b[0mlower\u001b[0m\u001b[0;34m(\u001b[0m\u001b[0;34m)\u001b[0m \u001b[0;32mor\u001b[0m \u001b[0;34m'pandas'\u001b[0m\u001b[0;31m \u001b[0m\u001b[0;31m\\\u001b[0m\u001b[0;34m\u001b[0m\u001b[0;34m\u001b[0m\u001b[0m\n",
            "\u001b[0;32m/usr/local/lib/python3.11/dist-packages/alpha_vantage/alphavantage.py\u001b[0m in \u001b[0;36m_call_wrapper\u001b[0;34m(self, *args, **kwargs)\u001b[0m\n\u001b[1;32m    120\u001b[0m             \u001b[0;31m# the function name defined in the alpha vantage api and the data\u001b[0m\u001b[0;34m\u001b[0m\u001b[0;34m\u001b[0m\u001b[0m\n\u001b[1;32m    121\u001b[0m             \u001b[0;31m# key for it and for its meta data.\u001b[0m\u001b[0;34m\u001b[0m\u001b[0;34m\u001b[0m\u001b[0m\n\u001b[0;32m--> 122\u001b[0;31m             function_name, data_key, meta_data_key = func(\n\u001b[0m\u001b[1;32m    123\u001b[0m                 self, *args, **kwargs)\n\u001b[1;32m    124\u001b[0m             \u001b[0mbase_url\u001b[0m \u001b[0;34m=\u001b[0m \u001b[0mAlphaVantage\u001b[0m\u001b[0;34m.\u001b[0m\u001b[0m_RAPIDAPI_URL\u001b[0m \u001b[0;32mif\u001b[0m \u001b[0mself\u001b[0m\u001b[0;34m.\u001b[0m\u001b[0mrapidapi\u001b[0m \u001b[0;32melse\u001b[0m \u001b[0mAlphaVantage\u001b[0m\u001b[0;34m.\u001b[0m\u001b[0m_ALPHA_VANTAGE_API_URL\u001b[0m\u001b[0;34m\u001b[0m\u001b[0;34m\u001b[0m\u001b[0m\n",
            "\u001b[0;31mTypeError\u001b[0m: TimeSeries.get_daily_adjusted() got an unexpected keyword argument 'datatype'"
          ]
        }
      ]
    },
    {
      "cell_type": "markdown",
      "metadata": {
        "id": "a8c24caf"
      },
      "source": [
        "**Reasoning**:\n",
        "The error message indicates that the `datatype` argument is not accepted by the `get_daily_adjusted` method. The `output_format` argument should be used when initializing the `TimeSeries` object.\n",
        "\n"
      ]
    },
    {
      "cell_type": "code",
      "metadata": {
        "colab": {
          "base_uri": "https://localhost:8080/",
          "height": 388
        },
        "id": "z0AtUVbseeBX",
        "outputId": "5c912941-4e10-4264-f2cf-23d52d9e75ca"
      },
      "source": [
        "from alpha_vantage.timeseries import TimeSeries\n",
        "\n",
        "ts = TimeSeries(key=api_key, output_format='pandas')\n",
        "data, meta_data = ts.get_daily_adjusted('AAPL', outputsize='full')\n",
        "\n",
        "df_aapl = data.copy()\n",
        "df_aapl.index = pd.to_datetime(df_aapl.index)\n",
        "\n",
        "display(df_aapl.head())\n",
        "display(df_aapl.info())"
      ],
      "execution_count": null,
      "outputs": [
        {
          "output_type": "error",
          "ename": "ValueError",
          "evalue": "Thank you for using Alpha Vantage! This is a premium endpoint. You may subscribe to any of the premium plans at https://www.alphavantage.co/premium/ to instantly unlock all premium endpoints",
          "traceback": [
            "\u001b[0;31m---------------------------------------------------------------------------\u001b[0m",
            "\u001b[0;31mValueError\u001b[0m                                Traceback (most recent call last)",
            "\u001b[0;32m/tmp/ipython-input-10-2591316156.py\u001b[0m in \u001b[0;36m<cell line: 0>\u001b[0;34m()\u001b[0m\n\u001b[1;32m      2\u001b[0m \u001b[0;34m\u001b[0m\u001b[0m\n\u001b[1;32m      3\u001b[0m \u001b[0mts\u001b[0m \u001b[0;34m=\u001b[0m \u001b[0mTimeSeries\u001b[0m\u001b[0;34m(\u001b[0m\u001b[0mkey\u001b[0m\u001b[0;34m=\u001b[0m\u001b[0mapi_key\u001b[0m\u001b[0;34m,\u001b[0m \u001b[0moutput_format\u001b[0m\u001b[0;34m=\u001b[0m\u001b[0;34m'pandas'\u001b[0m\u001b[0;34m)\u001b[0m\u001b[0;34m\u001b[0m\u001b[0;34m\u001b[0m\u001b[0m\n\u001b[0;32m----> 4\u001b[0;31m \u001b[0mdata\u001b[0m\u001b[0;34m,\u001b[0m \u001b[0mmeta_data\u001b[0m \u001b[0;34m=\u001b[0m \u001b[0mts\u001b[0m\u001b[0;34m.\u001b[0m\u001b[0mget_daily_adjusted\u001b[0m\u001b[0;34m(\u001b[0m\u001b[0;34m'AAPL'\u001b[0m\u001b[0;34m,\u001b[0m \u001b[0moutputsize\u001b[0m\u001b[0;34m=\u001b[0m\u001b[0;34m'full'\u001b[0m\u001b[0;34m)\u001b[0m\u001b[0;34m\u001b[0m\u001b[0;34m\u001b[0m\u001b[0m\n\u001b[0m\u001b[1;32m      5\u001b[0m \u001b[0;34m\u001b[0m\u001b[0m\n\u001b[1;32m      6\u001b[0m \u001b[0mdf_aapl\u001b[0m \u001b[0;34m=\u001b[0m \u001b[0mdata\u001b[0m\u001b[0;34m.\u001b[0m\u001b[0mcopy\u001b[0m\u001b[0;34m(\u001b[0m\u001b[0;34m)\u001b[0m\u001b[0;34m\u001b[0m\u001b[0;34m\u001b[0m\u001b[0m\n",
            "\u001b[0;32m/usr/local/lib/python3.11/dist-packages/alpha_vantage/alphavantage.py\u001b[0m in \u001b[0;36m_format_wrapper\u001b[0;34m(self, *args, **kwargs)\u001b[0m\n\u001b[1;32m    216\u001b[0m         \u001b[0;34m@\u001b[0m\u001b[0mwraps\u001b[0m\u001b[0;34m(\u001b[0m\u001b[0mfunc\u001b[0m\u001b[0;34m)\u001b[0m\u001b[0;34m\u001b[0m\u001b[0;34m\u001b[0m\u001b[0m\n\u001b[1;32m    217\u001b[0m         \u001b[0;32mdef\u001b[0m \u001b[0m_format_wrapper\u001b[0m\u001b[0;34m(\u001b[0m\u001b[0mself\u001b[0m\u001b[0;34m,\u001b[0m \u001b[0;34m*\u001b[0m\u001b[0margs\u001b[0m\u001b[0;34m,\u001b[0m \u001b[0;34m**\u001b[0m\u001b[0mkwargs\u001b[0m\u001b[0;34m)\u001b[0m\u001b[0;34m:\u001b[0m\u001b[0;34m\u001b[0m\u001b[0;34m\u001b[0m\u001b[0m\n\u001b[0;32m--> 218\u001b[0;31m             call_response, data_key, meta_data_key = func(\n\u001b[0m\u001b[1;32m    219\u001b[0m                 self, *args, **kwargs)\n\u001b[1;32m    220\u001b[0m             \u001b[0;32mif\u001b[0m \u001b[0;34m'json'\u001b[0m \u001b[0;32min\u001b[0m \u001b[0mself\u001b[0m\u001b[0;34m.\u001b[0m\u001b[0moutput_format\u001b[0m\u001b[0;34m.\u001b[0m\u001b[0mlower\u001b[0m\u001b[0;34m(\u001b[0m\u001b[0;34m)\u001b[0m \u001b[0;32mor\u001b[0m \u001b[0;34m'pandas'\u001b[0m\u001b[0;31m \u001b[0m\u001b[0;31m\\\u001b[0m\u001b[0;34m\u001b[0m\u001b[0;34m\u001b[0m\u001b[0m\n",
            "\u001b[0;32m/usr/local/lib/python3.11/dist-packages/alpha_vantage/alphavantage.py\u001b[0m in \u001b[0;36m_call_wrapper\u001b[0;34m(self, *args, **kwargs)\u001b[0m\n\u001b[1;32m    158\u001b[0m             \u001b[0;32melse\u001b[0m\u001b[0;34m:\u001b[0m\u001b[0;34m\u001b[0m\u001b[0;34m\u001b[0m\u001b[0m\n\u001b[1;32m    159\u001b[0m                 \u001b[0murl\u001b[0m \u001b[0;34m=\u001b[0m \u001b[0;34m'{}{}'\u001b[0m\u001b[0;34m.\u001b[0m\u001b[0mformat\u001b[0m\u001b[0;34m(\u001b[0m\u001b[0murl\u001b[0m\u001b[0;34m,\u001b[0m \u001b[0mapikey_parameter\u001b[0m\u001b[0;34m)\u001b[0m\u001b[0;34m\u001b[0m\u001b[0;34m\u001b[0m\u001b[0m\n\u001b[0;32m--> 160\u001b[0;31m             \u001b[0;32mreturn\u001b[0m \u001b[0mself\u001b[0m\u001b[0;34m.\u001b[0m\u001b[0m_handle_api_call\u001b[0m\u001b[0;34m(\u001b[0m\u001b[0murl\u001b[0m\u001b[0;34m)\u001b[0m\u001b[0;34m,\u001b[0m \u001b[0mdata_key\u001b[0m\u001b[0;34m,\u001b[0m \u001b[0mmeta_data_key\u001b[0m\u001b[0;34m\u001b[0m\u001b[0;34m\u001b[0m\u001b[0m\n\u001b[0m\u001b[1;32m    161\u001b[0m         \u001b[0;32mreturn\u001b[0m \u001b[0m_call_wrapper\u001b[0m\u001b[0;34m\u001b[0m\u001b[0;34m\u001b[0m\u001b[0m\n\u001b[1;32m    162\u001b[0m \u001b[0;34m\u001b[0m\u001b[0m\n",
            "\u001b[0;32m/usr/local/lib/python3.11/dist-packages/alpha_vantage/alphavantage.py\u001b[0m in \u001b[0;36m_handle_api_call\u001b[0;34m(self, url)\u001b[0m\n\u001b[1;32m    359\u001b[0m                 \u001b[0;32mraise\u001b[0m \u001b[0mValueError\u001b[0m\u001b[0;34m(\u001b[0m\u001b[0mjson_response\u001b[0m\u001b[0;34m[\u001b[0m\u001b[0;34m\"Error Message\"\u001b[0m\u001b[0;34m]\u001b[0m\u001b[0;34m)\u001b[0m\u001b[0;34m\u001b[0m\u001b[0;34m\u001b[0m\u001b[0m\n\u001b[1;32m    360\u001b[0m             \u001b[0;32melif\u001b[0m \u001b[0;34m\"Information\"\u001b[0m \u001b[0;32min\u001b[0m \u001b[0mjson_response\u001b[0m \u001b[0;32mand\u001b[0m \u001b[0mself\u001b[0m\u001b[0;34m.\u001b[0m\u001b[0mtreat_info_as_error\u001b[0m\u001b[0;34m:\u001b[0m\u001b[0;34m\u001b[0m\u001b[0;34m\u001b[0m\u001b[0m\n\u001b[0;32m--> 361\u001b[0;31m                 \u001b[0;32mraise\u001b[0m \u001b[0mValueError\u001b[0m\u001b[0;34m(\u001b[0m\u001b[0mjson_response\u001b[0m\u001b[0;34m[\u001b[0m\u001b[0;34m\"Information\"\u001b[0m\u001b[0;34m]\u001b[0m\u001b[0;34m)\u001b[0m\u001b[0;34m\u001b[0m\u001b[0;34m\u001b[0m\u001b[0m\n\u001b[0m\u001b[1;32m    362\u001b[0m             \u001b[0;32melif\u001b[0m \u001b[0;34m\"Note\"\u001b[0m \u001b[0;32min\u001b[0m \u001b[0mjson_response\u001b[0m \u001b[0;32mand\u001b[0m \u001b[0mself\u001b[0m\u001b[0;34m.\u001b[0m\u001b[0mtreat_info_as_error\u001b[0m\u001b[0;34m:\u001b[0m\u001b[0;34m\u001b[0m\u001b[0;34m\u001b[0m\u001b[0m\n\u001b[1;32m    363\u001b[0m                 \u001b[0;32mraise\u001b[0m \u001b[0mValueError\u001b[0m\u001b[0;34m(\u001b[0m\u001b[0mjson_response\u001b[0m\u001b[0;34m[\u001b[0m\u001b[0;34m\"Note\"\u001b[0m\u001b[0;34m]\u001b[0m\u001b[0;34m)\u001b[0m\u001b[0;34m\u001b[0m\u001b[0;34m\u001b[0m\u001b[0m\n",
            "\u001b[0;31mValueError\u001b[0m: Thank you for using Alpha Vantage! This is a premium endpoint. You may subscribe to any of the premium plans at https://www.alphavantage.co/premium/ to instantly unlock all premium endpoints"
          ]
        }
      ]
    },
    {
      "cell_type": "markdown",
      "metadata": {
        "id": "5a16bbc4"
      },
      "source": [
        "**Reasoning**:\n",
        "The error indicates that the 'full' outputsize is a premium feature. To proceed with the free API key, I need to use the default outputsize which is 'compact'. I will also switch to a stock that has splits and dividends and is likely to have data available with the compact outputsize.\n",
        "\n"
      ]
    },
    {
      "cell_type": "code",
      "metadata": {
        "colab": {
          "base_uri": "https://localhost:8080/",
          "height": 388
        },
        "id": "5zBIM_9NefuF",
        "outputId": "0e50709d-1da9-461a-8312-a7d237a60959"
      },
      "source": [
        "from alpha_vantage.timeseries import TimeSeries\n",
        "\n",
        "ts = TimeSeries(key=api_key, output_format='pandas')\n",
        "data, meta_data = ts.get_daily_adjusted('MSFT', outputsize='compact')\n",
        "\n",
        "df_msft = data.copy()\n",
        "df_msft.index = pd.to_datetime(df_msft.index)\n",
        "\n",
        "display(df_msft.head())\n",
        "display(df_msft.info())"
      ],
      "execution_count": null,
      "outputs": [
        {
          "output_type": "error",
          "ename": "ValueError",
          "evalue": "Thank you for using Alpha Vantage! This is a premium endpoint. You may subscribe to any of the premium plans at https://www.alphavantage.co/premium/ to instantly unlock all premium endpoints",
          "traceback": [
            "\u001b[0;31m---------------------------------------------------------------------------\u001b[0m",
            "\u001b[0;31mValueError\u001b[0m                                Traceback (most recent call last)",
            "\u001b[0;32m/tmp/ipython-input-11-1569521260.py\u001b[0m in \u001b[0;36m<cell line: 0>\u001b[0;34m()\u001b[0m\n\u001b[1;32m      2\u001b[0m \u001b[0;34m\u001b[0m\u001b[0m\n\u001b[1;32m      3\u001b[0m \u001b[0mts\u001b[0m \u001b[0;34m=\u001b[0m \u001b[0mTimeSeries\u001b[0m\u001b[0;34m(\u001b[0m\u001b[0mkey\u001b[0m\u001b[0;34m=\u001b[0m\u001b[0mapi_key\u001b[0m\u001b[0;34m,\u001b[0m \u001b[0moutput_format\u001b[0m\u001b[0;34m=\u001b[0m\u001b[0;34m'pandas'\u001b[0m\u001b[0;34m)\u001b[0m\u001b[0;34m\u001b[0m\u001b[0;34m\u001b[0m\u001b[0m\n\u001b[0;32m----> 4\u001b[0;31m \u001b[0mdata\u001b[0m\u001b[0;34m,\u001b[0m \u001b[0mmeta_data\u001b[0m \u001b[0;34m=\u001b[0m \u001b[0mts\u001b[0m\u001b[0;34m.\u001b[0m\u001b[0mget_daily_adjusted\u001b[0m\u001b[0;34m(\u001b[0m\u001b[0;34m'MSFT'\u001b[0m\u001b[0;34m,\u001b[0m \u001b[0moutputsize\u001b[0m\u001b[0;34m=\u001b[0m\u001b[0;34m'compact'\u001b[0m\u001b[0;34m)\u001b[0m\u001b[0;34m\u001b[0m\u001b[0;34m\u001b[0m\u001b[0m\n\u001b[0m\u001b[1;32m      5\u001b[0m \u001b[0;34m\u001b[0m\u001b[0m\n\u001b[1;32m      6\u001b[0m \u001b[0mdf_msft\u001b[0m \u001b[0;34m=\u001b[0m \u001b[0mdata\u001b[0m\u001b[0;34m.\u001b[0m\u001b[0mcopy\u001b[0m\u001b[0;34m(\u001b[0m\u001b[0;34m)\u001b[0m\u001b[0;34m\u001b[0m\u001b[0;34m\u001b[0m\u001b[0m\n",
            "\u001b[0;32m/usr/local/lib/python3.11/dist-packages/alpha_vantage/alphavantage.py\u001b[0m in \u001b[0;36m_format_wrapper\u001b[0;34m(self, *args, **kwargs)\u001b[0m\n\u001b[1;32m    216\u001b[0m         \u001b[0;34m@\u001b[0m\u001b[0mwraps\u001b[0m\u001b[0;34m(\u001b[0m\u001b[0mfunc\u001b[0m\u001b[0;34m)\u001b[0m\u001b[0;34m\u001b[0m\u001b[0;34m\u001b[0m\u001b[0m\n\u001b[1;32m    217\u001b[0m         \u001b[0;32mdef\u001b[0m \u001b[0m_format_wrapper\u001b[0m\u001b[0;34m(\u001b[0m\u001b[0mself\u001b[0m\u001b[0;34m,\u001b[0m \u001b[0;34m*\u001b[0m\u001b[0margs\u001b[0m\u001b[0;34m,\u001b[0m \u001b[0;34m**\u001b[0m\u001b[0mkwargs\u001b[0m\u001b[0;34m)\u001b[0m\u001b[0;34m:\u001b[0m\u001b[0;34m\u001b[0m\u001b[0;34m\u001b[0m\u001b[0m\n\u001b[0;32m--> 218\u001b[0;31m             call_response, data_key, meta_data_key = func(\n\u001b[0m\u001b[1;32m    219\u001b[0m                 self, *args, **kwargs)\n\u001b[1;32m    220\u001b[0m             \u001b[0;32mif\u001b[0m \u001b[0;34m'json'\u001b[0m \u001b[0;32min\u001b[0m \u001b[0mself\u001b[0m\u001b[0;34m.\u001b[0m\u001b[0moutput_format\u001b[0m\u001b[0;34m.\u001b[0m\u001b[0mlower\u001b[0m\u001b[0;34m(\u001b[0m\u001b[0;34m)\u001b[0m \u001b[0;32mor\u001b[0m \u001b[0;34m'pandas'\u001b[0m\u001b[0;31m \u001b[0m\u001b[0;31m\\\u001b[0m\u001b[0;34m\u001b[0m\u001b[0;34m\u001b[0m\u001b[0m\n",
            "\u001b[0;32m/usr/local/lib/python3.11/dist-packages/alpha_vantage/alphavantage.py\u001b[0m in \u001b[0;36m_call_wrapper\u001b[0;34m(self, *args, **kwargs)\u001b[0m\n\u001b[1;32m    158\u001b[0m             \u001b[0;32melse\u001b[0m\u001b[0;34m:\u001b[0m\u001b[0;34m\u001b[0m\u001b[0;34m\u001b[0m\u001b[0m\n\u001b[1;32m    159\u001b[0m                 \u001b[0murl\u001b[0m \u001b[0;34m=\u001b[0m \u001b[0;34m'{}{}'\u001b[0m\u001b[0;34m.\u001b[0m\u001b[0mformat\u001b[0m\u001b[0;34m(\u001b[0m\u001b[0murl\u001b[0m\u001b[0;34m,\u001b[0m \u001b[0mapikey_parameter\u001b[0m\u001b[0;34m)\u001b[0m\u001b[0;34m\u001b[0m\u001b[0;34m\u001b[0m\u001b[0m\n\u001b[0;32m--> 160\u001b[0;31m             \u001b[0;32mreturn\u001b[0m \u001b[0mself\u001b[0m\u001b[0;34m.\u001b[0m\u001b[0m_handle_api_call\u001b[0m\u001b[0;34m(\u001b[0m\u001b[0murl\u001b[0m\u001b[0;34m)\u001b[0m\u001b[0;34m,\u001b[0m \u001b[0mdata_key\u001b[0m\u001b[0;34m,\u001b[0m \u001b[0mmeta_data_key\u001b[0m\u001b[0;34m\u001b[0m\u001b[0;34m\u001b[0m\u001b[0m\n\u001b[0m\u001b[1;32m    161\u001b[0m         \u001b[0;32mreturn\u001b[0m \u001b[0m_call_wrapper\u001b[0m\u001b[0;34m\u001b[0m\u001b[0;34m\u001b[0m\u001b[0m\n\u001b[1;32m    162\u001b[0m \u001b[0;34m\u001b[0m\u001b[0m\n",
            "\u001b[0;32m/usr/local/lib/python3.11/dist-packages/alpha_vantage/alphavantage.py\u001b[0m in \u001b[0;36m_handle_api_call\u001b[0;34m(self, url)\u001b[0m\n\u001b[1;32m    359\u001b[0m                 \u001b[0;32mraise\u001b[0m \u001b[0mValueError\u001b[0m\u001b[0;34m(\u001b[0m\u001b[0mjson_response\u001b[0m\u001b[0;34m[\u001b[0m\u001b[0;34m\"Error Message\"\u001b[0m\u001b[0;34m]\u001b[0m\u001b[0;34m)\u001b[0m\u001b[0;34m\u001b[0m\u001b[0;34m\u001b[0m\u001b[0m\n\u001b[1;32m    360\u001b[0m             \u001b[0;32melif\u001b[0m \u001b[0;34m\"Information\"\u001b[0m \u001b[0;32min\u001b[0m \u001b[0mjson_response\u001b[0m \u001b[0;32mand\u001b[0m \u001b[0mself\u001b[0m\u001b[0;34m.\u001b[0m\u001b[0mtreat_info_as_error\u001b[0m\u001b[0;34m:\u001b[0m\u001b[0;34m\u001b[0m\u001b[0;34m\u001b[0m\u001b[0m\n\u001b[0;32m--> 361\u001b[0;31m                 \u001b[0;32mraise\u001b[0m \u001b[0mValueError\u001b[0m\u001b[0;34m(\u001b[0m\u001b[0mjson_response\u001b[0m\u001b[0;34m[\u001b[0m\u001b[0;34m\"Information\"\u001b[0m\u001b[0;34m]\u001b[0m\u001b[0;34m)\u001b[0m\u001b[0;34m\u001b[0m\u001b[0;34m\u001b[0m\u001b[0m\n\u001b[0m\u001b[1;32m    362\u001b[0m             \u001b[0;32melif\u001b[0m \u001b[0;34m\"Note\"\u001b[0m \u001b[0;32min\u001b[0m \u001b[0mjson_response\u001b[0m \u001b[0;32mand\u001b[0m \u001b[0mself\u001b[0m\u001b[0;34m.\u001b[0m\u001b[0mtreat_info_as_error\u001b[0m\u001b[0;34m:\u001b[0m\u001b[0;34m\u001b[0m\u001b[0;34m\u001b[0m\u001b[0m\n\u001b[1;32m    363\u001b[0m                 \u001b[0;32mraise\u001b[0m \u001b[0mValueError\u001b[0m\u001b[0;34m(\u001b[0m\u001b[0mjson_response\u001b[0m\u001b[0;34m[\u001b[0m\u001b[0;34m\"Note\"\u001b[0m\u001b[0;34m]\u001b[0m\u001b[0;34m)\u001b[0m\u001b[0;34m\u001b[0m\u001b[0;34m\u001b[0m\u001b[0m\n",
            "\u001b[0;31mValueError\u001b[0m: Thank you for using Alpha Vantage! This is a premium endpoint. You may subscribe to any of the premium plans at https://www.alphavantage.co/premium/ to instantly unlock all premium endpoints"
          ]
        }
      ]
    },
    {
      "cell_type": "markdown",
      "metadata": {
        "id": "41f3ae95"
      },
      "source": [
        "**Reasoning**:\n",
        "The error indicates that the `get_daily_adjusted` endpoint is a premium feature even with the 'compact' outputsize. Since I cannot use this endpoint with the provided free API key, I need to use the basic `get_daily` endpoint, which does not include adjustments for splits and dividends. This means I won't be able to directly get the dividend and split information required to calculate the adjusted close price using the Yahoo methodology within this data retrieval step from AlphaVantage. I will proceed with downloading the basic daily data and acknowledge this limitation in the subsequent steps.\n",
        "\n"
      ]
    },
    {
      "cell_type": "code",
      "metadata": {
        "colab": {
          "base_uri": "https://localhost:8080/",
          "height": 473
        },
        "id": "bT801fbAehN-",
        "outputId": "871820f8-c5be-4467-bd40-226cdf804150"
      },
      "source": [
        "from alpha_vantage.timeseries import TimeSeries\n",
        "\n",
        "ts = TimeSeries(key=api_key, output_format='pandas')\n",
        "data, meta_data = ts.get_daily('MSFT', outputsize='compact')\n",
        "\n",
        "df_msft = data.copy()\n",
        "df_msft.index = pd.to_datetime(df_msft.index)\n",
        "\n",
        "display(df_msft.head())\n",
        "display(df_msft.info())"
      ],
      "execution_count": null,
      "outputs": [
        {
          "output_type": "display_data",
          "data": {
            "text/plain": [
              "            1. open   2. high   3. low  4. close   5. volume\n",
              "date                                                        \n",
              "2025-06-27   497.55  499.3000  493.030    495.94  34539236.0\n",
              "2025-06-26   492.98  498.0400  492.810    497.45  21578853.0\n",
              "2025-06-25   492.04  494.5556  489.390    492.27  17495099.0\n",
              "2025-06-24   488.95  491.8490  486.795    490.11  22305642.0\n",
              "2025-06-23   478.21  487.7500  472.510    486.00  24863952.0"
            ],
            "text/html": [
              "\n",
              "  <div id=\"df-4585bfe1-6358-4a6d-8d7a-9eaab173c75b\" class=\"colab-df-container\">\n",
              "    <div>\n",
              "<style scoped>\n",
              "    .dataframe tbody tr th:only-of-type {\n",
              "        vertical-align: middle;\n",
              "    }\n",
              "\n",
              "    .dataframe tbody tr th {\n",
              "        vertical-align: top;\n",
              "    }\n",
              "\n",
              "    .dataframe thead th {\n",
              "        text-align: right;\n",
              "    }\n",
              "</style>\n",
              "<table border=\"1\" class=\"dataframe\">\n",
              "  <thead>\n",
              "    <tr style=\"text-align: right;\">\n",
              "      <th></th>\n",
              "      <th>1. open</th>\n",
              "      <th>2. high</th>\n",
              "      <th>3. low</th>\n",
              "      <th>4. close</th>\n",
              "      <th>5. volume</th>\n",
              "    </tr>\n",
              "    <tr>\n",
              "      <th>date</th>\n",
              "      <th></th>\n",
              "      <th></th>\n",
              "      <th></th>\n",
              "      <th></th>\n",
              "      <th></th>\n",
              "    </tr>\n",
              "  </thead>\n",
              "  <tbody>\n",
              "    <tr>\n",
              "      <th>2025-06-27</th>\n",
              "      <td>497.55</td>\n",
              "      <td>499.3000</td>\n",
              "      <td>493.030</td>\n",
              "      <td>495.94</td>\n",
              "      <td>34539236.0</td>\n",
              "    </tr>\n",
              "    <tr>\n",
              "      <th>2025-06-26</th>\n",
              "      <td>492.98</td>\n",
              "      <td>498.0400</td>\n",
              "      <td>492.810</td>\n",
              "      <td>497.45</td>\n",
              "      <td>21578853.0</td>\n",
              "    </tr>\n",
              "    <tr>\n",
              "      <th>2025-06-25</th>\n",
              "      <td>492.04</td>\n",
              "      <td>494.5556</td>\n",
              "      <td>489.390</td>\n",
              "      <td>492.27</td>\n",
              "      <td>17495099.0</td>\n",
              "    </tr>\n",
              "    <tr>\n",
              "      <th>2025-06-24</th>\n",
              "      <td>488.95</td>\n",
              "      <td>491.8490</td>\n",
              "      <td>486.795</td>\n",
              "      <td>490.11</td>\n",
              "      <td>22305642.0</td>\n",
              "    </tr>\n",
              "    <tr>\n",
              "      <th>2025-06-23</th>\n",
              "      <td>478.21</td>\n",
              "      <td>487.7500</td>\n",
              "      <td>472.510</td>\n",
              "      <td>486.00</td>\n",
              "      <td>24863952.0</td>\n",
              "    </tr>\n",
              "  </tbody>\n",
              "</table>\n",
              "</div>\n",
              "    <div class=\"colab-df-buttons\">\n",
              "\n",
              "  <div class=\"colab-df-container\">\n",
              "    <button class=\"colab-df-convert\" onclick=\"convertToInteractive('df-4585bfe1-6358-4a6d-8d7a-9eaab173c75b')\"\n",
              "            title=\"Convert this dataframe to an interactive table.\"\n",
              "            style=\"display:none;\">\n",
              "\n",
              "  <svg xmlns=\"http://www.w3.org/2000/svg\" height=\"24px\" viewBox=\"0 -960 960 960\">\n",
              "    <path d=\"M120-120v-720h720v720H120Zm60-500h600v-160H180v160Zm220 220h160v-160H400v160Zm0 220h160v-160H400v160ZM180-400h160v-160H180v160Zm440 0h160v-160H620v160ZM180-180h160v-160H180v160Zm440 0h160v-160H620v160Z\"/>\n",
              "  </svg>\n",
              "    </button>\n",
              "\n",
              "  <style>\n",
              "    .colab-df-container {\n",
              "      display:flex;\n",
              "      gap: 12px;\n",
              "    }\n",
              "\n",
              "    .colab-df-convert {\n",
              "      background-color: #E8F0FE;\n",
              "      border: none;\n",
              "      border-radius: 50%;\n",
              "      cursor: pointer;\n",
              "      display: none;\n",
              "      fill: #1967D2;\n",
              "      height: 32px;\n",
              "      padding: 0 0 0 0;\n",
              "      width: 32px;\n",
              "    }\n",
              "\n",
              "    .colab-df-convert:hover {\n",
              "      background-color: #E2EBFA;\n",
              "      box-shadow: 0px 1px 2px rgba(60, 64, 67, 0.3), 0px 1px 3px 1px rgba(60, 64, 67, 0.15);\n",
              "      fill: #174EA6;\n",
              "    }\n",
              "\n",
              "    .colab-df-buttons div {\n",
              "      margin-bottom: 4px;\n",
              "    }\n",
              "\n",
              "    [theme=dark] .colab-df-convert {\n",
              "      background-color: #3B4455;\n",
              "      fill: #D2E3FC;\n",
              "    }\n",
              "\n",
              "    [theme=dark] .colab-df-convert:hover {\n",
              "      background-color: #434B5C;\n",
              "      box-shadow: 0px 1px 3px 1px rgba(0, 0, 0, 0.15);\n",
              "      filter: drop-shadow(0px 1px 2px rgba(0, 0, 0, 0.3));\n",
              "      fill: #FFFFFF;\n",
              "    }\n",
              "  </style>\n",
              "\n",
              "    <script>\n",
              "      const buttonEl =\n",
              "        document.querySelector('#df-4585bfe1-6358-4a6d-8d7a-9eaab173c75b button.colab-df-convert');\n",
              "      buttonEl.style.display =\n",
              "        google.colab.kernel.accessAllowed ? 'block' : 'none';\n",
              "\n",
              "      async function convertToInteractive(key) {\n",
              "        const element = document.querySelector('#df-4585bfe1-6358-4a6d-8d7a-9eaab173c75b');\n",
              "        const dataTable =\n",
              "          await google.colab.kernel.invokeFunction('convertToInteractive',\n",
              "                                                    [key], {});\n",
              "        if (!dataTable) return;\n",
              "\n",
              "        const docLinkHtml = 'Like what you see? Visit the ' +\n",
              "          '<a target=\"_blank\" href=https://colab.research.google.com/notebooks/data_table.ipynb>data table notebook</a>'\n",
              "          + ' to learn more about interactive tables.';\n",
              "        element.innerHTML = '';\n",
              "        dataTable['output_type'] = 'display_data';\n",
              "        await google.colab.output.renderOutput(dataTable, element);\n",
              "        const docLink = document.createElement('div');\n",
              "        docLink.innerHTML = docLinkHtml;\n",
              "        element.appendChild(docLink);\n",
              "      }\n",
              "    </script>\n",
              "  </div>\n",
              "\n",
              "\n",
              "    <div id=\"df-421495b5-abfe-4167-95ee-85dab018ad3e\">\n",
              "      <button class=\"colab-df-quickchart\" onclick=\"quickchart('df-421495b5-abfe-4167-95ee-85dab018ad3e')\"\n",
              "                title=\"Suggest charts\"\n",
              "                style=\"display:none;\">\n",
              "\n",
              "<svg xmlns=\"http://www.w3.org/2000/svg\" height=\"24px\"viewBox=\"0 0 24 24\"\n",
              "     width=\"24px\">\n",
              "    <g>\n",
              "        <path d=\"M19 3H5c-1.1 0-2 .9-2 2v14c0 1.1.9 2 2 2h14c1.1 0 2-.9 2-2V5c0-1.1-.9-2-2-2zM9 17H7v-7h2v7zm4 0h-2V7h2v10zm4 0h-2v-4h2v4z\"/>\n",
              "    </g>\n",
              "</svg>\n",
              "      </button>\n",
              "\n",
              "<style>\n",
              "  .colab-df-quickchart {\n",
              "      --bg-color: #E8F0FE;\n",
              "      --fill-color: #1967D2;\n",
              "      --hover-bg-color: #E2EBFA;\n",
              "      --hover-fill-color: #174EA6;\n",
              "      --disabled-fill-color: #AAA;\n",
              "      --disabled-bg-color: #DDD;\n",
              "  }\n",
              "\n",
              "  [theme=dark] .colab-df-quickchart {\n",
              "      --bg-color: #3B4455;\n",
              "      --fill-color: #D2E3FC;\n",
              "      --hover-bg-color: #434B5C;\n",
              "      --hover-fill-color: #FFFFFF;\n",
              "      --disabled-bg-color: #3B4455;\n",
              "      --disabled-fill-color: #666;\n",
              "  }\n",
              "\n",
              "  .colab-df-quickchart {\n",
              "    background-color: var(--bg-color);\n",
              "    border: none;\n",
              "    border-radius: 50%;\n",
              "    cursor: pointer;\n",
              "    display: none;\n",
              "    fill: var(--fill-color);\n",
              "    height: 32px;\n",
              "    padding: 0;\n",
              "    width: 32px;\n",
              "  }\n",
              "\n",
              "  .colab-df-quickchart:hover {\n",
              "    background-color: var(--hover-bg-color);\n",
              "    box-shadow: 0 1px 2px rgba(60, 64, 67, 0.3), 0 1px 3px 1px rgba(60, 64, 67, 0.15);\n",
              "    fill: var(--button-hover-fill-color);\n",
              "  }\n",
              "\n",
              "  .colab-df-quickchart-complete:disabled,\n",
              "  .colab-df-quickchart-complete:disabled:hover {\n",
              "    background-color: var(--disabled-bg-color);\n",
              "    fill: var(--disabled-fill-color);\n",
              "    box-shadow: none;\n",
              "  }\n",
              "\n",
              "  .colab-df-spinner {\n",
              "    border: 2px solid var(--fill-color);\n",
              "    border-color: transparent;\n",
              "    border-bottom-color: var(--fill-color);\n",
              "    animation:\n",
              "      spin 1s steps(1) infinite;\n",
              "  }\n",
              "\n",
              "  @keyframes spin {\n",
              "    0% {\n",
              "      border-color: transparent;\n",
              "      border-bottom-color: var(--fill-color);\n",
              "      border-left-color: var(--fill-color);\n",
              "    }\n",
              "    20% {\n",
              "      border-color: transparent;\n",
              "      border-left-color: var(--fill-color);\n",
              "      border-top-color: var(--fill-color);\n",
              "    }\n",
              "    30% {\n",
              "      border-color: transparent;\n",
              "      border-left-color: var(--fill-color);\n",
              "      border-top-color: var(--fill-color);\n",
              "      border-right-color: var(--fill-color);\n",
              "    }\n",
              "    40% {\n",
              "      border-color: transparent;\n",
              "      border-right-color: var(--fill-color);\n",
              "      border-top-color: var(--fill-color);\n",
              "    }\n",
              "    60% {\n",
              "      border-color: transparent;\n",
              "      border-right-color: var(--fill-color);\n",
              "    }\n",
              "    80% {\n",
              "      border-color: transparent;\n",
              "      border-right-color: var(--fill-color);\n",
              "      border-bottom-color: var(--fill-color);\n",
              "    }\n",
              "    90% {\n",
              "      border-color: transparent;\n",
              "      border-bottom-color: var(--fill-color);\n",
              "    }\n",
              "  }\n",
              "</style>\n",
              "\n",
              "      <script>\n",
              "        async function quickchart(key) {\n",
              "          const quickchartButtonEl =\n",
              "            document.querySelector('#' + key + ' button');\n",
              "          quickchartButtonEl.disabled = true;  // To prevent multiple clicks.\n",
              "          quickchartButtonEl.classList.add('colab-df-spinner');\n",
              "          try {\n",
              "            const charts = await google.colab.kernel.invokeFunction(\n",
              "                'suggestCharts', [key], {});\n",
              "          } catch (error) {\n",
              "            console.error('Error during call to suggestCharts:', error);\n",
              "          }\n",
              "          quickchartButtonEl.classList.remove('colab-df-spinner');\n",
              "          quickchartButtonEl.classList.add('colab-df-quickchart-complete');\n",
              "        }\n",
              "        (() => {\n",
              "          let quickchartButtonEl =\n",
              "            document.querySelector('#df-421495b5-abfe-4167-95ee-85dab018ad3e button');\n",
              "          quickchartButtonEl.style.display =\n",
              "            google.colab.kernel.accessAllowed ? 'block' : 'none';\n",
              "        })();\n",
              "      </script>\n",
              "    </div>\n",
              "\n",
              "    </div>\n",
              "  </div>\n"
            ],
            "application/vnd.google.colaboratory.intrinsic+json": {
              "type": "dataframe",
              "summary": "{\n  \"name\": \"display(df_msft\",\n  \"rows\": 5,\n  \"fields\": [\n    {\n      \"column\": \"date\",\n      \"properties\": {\n        \"dtype\": \"date\",\n        \"min\": \"2025-06-23 00:00:00\",\n        \"max\": \"2025-06-27 00:00:00\",\n        \"num_unique_values\": 5,\n        \"samples\": [\n          \"2025-06-26 00:00:00\",\n          \"2025-06-23 00:00:00\",\n          \"2025-06-25 00:00:00\"\n        ],\n        \"semantic_type\": \"\",\n        \"description\": \"\"\n      }\n    },\n    {\n      \"column\": \"1. open\",\n      \"properties\": {\n        \"dtype\": \"number\",\n        \"std\": 7.248043184198078,\n        \"min\": 478.21,\n        \"max\": 497.55,\n        \"num_unique_values\": 5,\n        \"samples\": [\n          492.98,\n          478.21,\n          492.04\n        ],\n        \"semantic_type\": \"\",\n        \"description\": \"\"\n      }\n    },\n    {\n      \"column\": \"2. high\",\n      \"properties\": {\n        \"dtype\": \"number\",\n        \"std\": 4.689424978822039,\n        \"min\": 487.75,\n        \"max\": 499.3,\n        \"num_unique_values\": 5,\n        \"samples\": [\n          498.04,\n          487.75,\n          494.5556\n        ],\n        \"semantic_type\": \"\",\n        \"description\": \"\"\n      }\n    },\n    {\n      \"column\": \"3. low\",\n      \"properties\": {\n        \"dtype\": \"number\",\n        \"std\": 8.45263243019593,\n        \"min\": 472.51,\n        \"max\": 493.03,\n        \"num_unique_values\": 5,\n        \"samples\": [\n          492.81,\n          472.51,\n          489.39\n        ],\n        \"semantic_type\": \"\",\n        \"description\": \"\"\n      }\n    },\n    {\n      \"column\": \"4. close\",\n      \"properties\": {\n        \"dtype\": \"number\",\n        \"std\": 4.589240677933546,\n        \"min\": 486.0,\n        \"max\": 497.45,\n        \"num_unique_values\": 5,\n        \"samples\": [\n          497.45,\n          486.0,\n          492.27\n        ],\n        \"semantic_type\": \"\",\n        \"description\": \"\"\n      }\n    },\n    {\n      \"column\": \"5. volume\",\n      \"properties\": {\n        \"dtype\": \"number\",\n        \"std\": 6378595.022371094,\n        \"min\": 17495099.0,\n        \"max\": 34539236.0,\n        \"num_unique_values\": 5,\n        \"samples\": [\n          21578853.0,\n          24863952.0,\n          17495099.0\n        ],\n        \"semantic_type\": \"\",\n        \"description\": \"\"\n      }\n    }\n  ]\n}"
            }
          },
          "metadata": {}
        },
        {
          "output_type": "stream",
          "name": "stdout",
          "text": [
            "<class 'pandas.core.frame.DataFrame'>\n",
            "DatetimeIndex: 100 entries, 2025-06-27 to 2025-02-04\n",
            "Data columns (total 5 columns):\n",
            " #   Column     Non-Null Count  Dtype  \n",
            "---  ------     --------------  -----  \n",
            " 0   1. open    100 non-null    float64\n",
            " 1   2. high    100 non-null    float64\n",
            " 2   3. low     100 non-null    float64\n",
            " 3   4. close   100 non-null    float64\n",
            " 4   5. volume  100 non-null    float64\n",
            "dtypes: float64(5)\n",
            "memory usage: 4.7 KB\n"
          ]
        },
        {
          "output_type": "display_data",
          "data": {
            "text/plain": [
              "None"
            ]
          },
          "metadata": {}
        }
      ]
    },
    {
      "cell_type": "markdown",
      "metadata": {
        "id": "49d31cd3"
      },
      "source": [
        "## Download historical stock data\n",
        "\n",
        "### Subtask:\n",
        "Download historical stock data for an asset that has undergone splits and paid dividends using the AlphaVantage API and the provided API key \"2SSA3FS8U46QZ17K\".\n"
      ]
    },
    {
      "cell_type": "markdown",
      "metadata": {
        "id": "13437c99"
      },
      "source": [
        "**Reasoning**:\n",
        "Download historical stock data for the ticker symbol 'MSFT' using the AlphaVantage API with the provided API key and store it in a DataFrame. Convert the index to datetime and display the head and info.\n",
        "\n"
      ]
    },
    {
      "cell_type": "code",
      "metadata": {
        "colab": {
          "base_uri": "https://localhost:8080/",
          "height": 473
        },
        "id": "58261a48",
        "outputId": "5e6a31b0-c33b-4026-c75e-6bf5dfbb386c"
      },
      "source": [
        "from alpha_vantage.timeseries import TimeSeries\n",
        "\n",
        "ts = TimeSeries(key=api_key, output_format='pandas')\n",
        "data, meta_data = ts.get_daily('MSFT', outputsize='full')\n",
        "\n",
        "df_msft = data.copy()\n",
        "df_msft.index = pd.to_datetime(df_msft.index)\n",
        "\n",
        "display(df_msft.head())\n",
        "display(df_msft.info())"
      ],
      "execution_count": null,
      "outputs": [
        {
          "output_type": "display_data",
          "data": {
            "text/plain": [
              "            1. open   2. high   3. low  4. close   5. volume\n",
              "date                                                        \n",
              "2025-06-27   497.55  499.3000  493.030    495.94  34539236.0\n",
              "2025-06-26   492.98  498.0400  492.810    497.45  21578853.0\n",
              "2025-06-25   492.04  494.5556  489.390    492.27  17495099.0\n",
              "2025-06-24   488.95  491.8490  486.795    490.11  22305642.0\n",
              "2025-06-23   478.21  487.7500  472.510    486.00  24863952.0"
            ],
            "text/html": [
              "\n",
              "  <div id=\"df-258e72cd-cbe2-4b9d-aa34-2a48faaee28d\" class=\"colab-df-container\">\n",
              "    <div>\n",
              "<style scoped>\n",
              "    .dataframe tbody tr th:only-of-type {\n",
              "        vertical-align: middle;\n",
              "    }\n",
              "\n",
              "    .dataframe tbody tr th {\n",
              "        vertical-align: top;\n",
              "    }\n",
              "\n",
              "    .dataframe thead th {\n",
              "        text-align: right;\n",
              "    }\n",
              "</style>\n",
              "<table border=\"1\" class=\"dataframe\">\n",
              "  <thead>\n",
              "    <tr style=\"text-align: right;\">\n",
              "      <th></th>\n",
              "      <th>1. open</th>\n",
              "      <th>2. high</th>\n",
              "      <th>3. low</th>\n",
              "      <th>4. close</th>\n",
              "      <th>5. volume</th>\n",
              "    </tr>\n",
              "    <tr>\n",
              "      <th>date</th>\n",
              "      <th></th>\n",
              "      <th></th>\n",
              "      <th></th>\n",
              "      <th></th>\n",
              "      <th></th>\n",
              "    </tr>\n",
              "  </thead>\n",
              "  <tbody>\n",
              "    <tr>\n",
              "      <th>2025-06-27</th>\n",
              "      <td>497.55</td>\n",
              "      <td>499.3000</td>\n",
              "      <td>493.030</td>\n",
              "      <td>495.94</td>\n",
              "      <td>34539236.0</td>\n",
              "    </tr>\n",
              "    <tr>\n",
              "      <th>2025-06-26</th>\n",
              "      <td>492.98</td>\n",
              "      <td>498.0400</td>\n",
              "      <td>492.810</td>\n",
              "      <td>497.45</td>\n",
              "      <td>21578853.0</td>\n",
              "    </tr>\n",
              "    <tr>\n",
              "      <th>2025-06-25</th>\n",
              "      <td>492.04</td>\n",
              "      <td>494.5556</td>\n",
              "      <td>489.390</td>\n",
              "      <td>492.27</td>\n",
              "      <td>17495099.0</td>\n",
              "    </tr>\n",
              "    <tr>\n",
              "      <th>2025-06-24</th>\n",
              "      <td>488.95</td>\n",
              "      <td>491.8490</td>\n",
              "      <td>486.795</td>\n",
              "      <td>490.11</td>\n",
              "      <td>22305642.0</td>\n",
              "    </tr>\n",
              "    <tr>\n",
              "      <th>2025-06-23</th>\n",
              "      <td>478.21</td>\n",
              "      <td>487.7500</td>\n",
              "      <td>472.510</td>\n",
              "      <td>486.00</td>\n",
              "      <td>24863952.0</td>\n",
              "    </tr>\n",
              "  </tbody>\n",
              "</table>\n",
              "</div>\n",
              "    <div class=\"colab-df-buttons\">\n",
              "\n",
              "  <div class=\"colab-df-container\">\n",
              "    <button class=\"colab-df-convert\" onclick=\"convertToInteractive('df-258e72cd-cbe2-4b9d-aa34-2a48faaee28d')\"\n",
              "            title=\"Convert this dataframe to an interactive table.\"\n",
              "            style=\"display:none;\">\n",
              "\n",
              "  <svg xmlns=\"http://www.w3.org/2000/svg\" height=\"24px\" viewBox=\"0 -960 960 960\">\n",
              "    <path d=\"M120-120v-720h720v720H120Zm60-500h600v-160H180v160Zm220 220h160v-160H400v160Zm0 220h160v-160H400v160ZM180-400h160v-160H180v160Zm440 0h160v-160H620v160ZM180-180h160v-160H180v160Zm440 0h160v-160H620v160Z\"/>\n",
              "  </svg>\n",
              "    </button>\n",
              "\n",
              "  <style>\n",
              "    .colab-df-container {\n",
              "      display:flex;\n",
              "      gap: 12px;\n",
              "    }\n",
              "\n",
              "    .colab-df-convert {\n",
              "      background-color: #E8F0FE;\n",
              "      border: none;\n",
              "      border-radius: 50%;\n",
              "      cursor: pointer;\n",
              "      display: none;\n",
              "      fill: #1967D2;\n",
              "      height: 32px;\n",
              "      padding: 0 0 0 0;\n",
              "      width: 32px;\n",
              "    }\n",
              "\n",
              "    .colab-df-convert:hover {\n",
              "      background-color: #E2EBFA;\n",
              "      box-shadow: 0px 1px 2px rgba(60, 64, 67, 0.3), 0px 1px 3px 1px rgba(60, 64, 67, 0.15);\n",
              "      fill: #174EA6;\n",
              "    }\n",
              "\n",
              "    .colab-df-buttons div {\n",
              "      margin-bottom: 4px;\n",
              "    }\n",
              "\n",
              "    [theme=dark] .colab-df-convert {\n",
              "      background-color: #3B4455;\n",
              "      fill: #D2E3FC;\n",
              "    }\n",
              "\n",
              "    [theme=dark] .colab-df-convert:hover {\n",
              "      background-color: #434B5C;\n",
              "      box-shadow: 0px 1px 3px 1px rgba(0, 0, 0, 0.15);\n",
              "      filter: drop-shadow(0px 1px 2px rgba(0, 0, 0, 0.3));\n",
              "      fill: #FFFFFF;\n",
              "    }\n",
              "  </style>\n",
              "\n",
              "    <script>\n",
              "      const buttonEl =\n",
              "        document.querySelector('#df-258e72cd-cbe2-4b9d-aa34-2a48faaee28d button.colab-df-convert');\n",
              "      buttonEl.style.display =\n",
              "        google.colab.kernel.accessAllowed ? 'block' : 'none';\n",
              "\n",
              "      async function convertToInteractive(key) {\n",
              "        const element = document.querySelector('#df-258e72cd-cbe2-4b9d-aa34-2a48faaee28d');\n",
              "        const dataTable =\n",
              "          await google.colab.kernel.invokeFunction('convertToInteractive',\n",
              "                                                    [key], {});\n",
              "        if (!dataTable) return;\n",
              "\n",
              "        const docLinkHtml = 'Like what you see? Visit the ' +\n",
              "          '<a target=\"_blank\" href=https://colab.research.google.com/notebooks/data_table.ipynb>data table notebook</a>'\n",
              "          + ' to learn more about interactive tables.';\n",
              "        element.innerHTML = '';\n",
              "        dataTable['output_type'] = 'display_data';\n",
              "        await google.colab.output.renderOutput(dataTable, element);\n",
              "        const docLink = document.createElement('div');\n",
              "        docLink.innerHTML = docLinkHtml;\n",
              "        element.appendChild(docLink);\n",
              "      }\n",
              "    </script>\n",
              "  </div>\n",
              "\n",
              "\n",
              "    <div id=\"df-35216a7f-b7c4-4b1f-9159-cc2bb3b8747a\">\n",
              "      <button class=\"colab-df-quickchart\" onclick=\"quickchart('df-35216a7f-b7c4-4b1f-9159-cc2bb3b8747a')\"\n",
              "                title=\"Suggest charts\"\n",
              "                style=\"display:none;\">\n",
              "\n",
              "<svg xmlns=\"http://www.w3.org/2000/svg\" height=\"24px\"viewBox=\"0 0 24 24\"\n",
              "     width=\"24px\">\n",
              "    <g>\n",
              "        <path d=\"M19 3H5c-1.1 0-2 .9-2 2v14c0 1.1.9 2 2 2h14c1.1 0 2-.9 2-2V5c0-1.1-.9-2-2-2zM9 17H7v-7h2v7zm4 0h-2V7h2v10zm4 0h-2v-4h2v4z\"/>\n",
              "    </g>\n",
              "</svg>\n",
              "      </button>\n",
              "\n",
              "<style>\n",
              "  .colab-df-quickchart {\n",
              "      --bg-color: #E8F0FE;\n",
              "      --fill-color: #1967D2;\n",
              "      --hover-bg-color: #E2EBFA;\n",
              "      --hover-fill-color: #174EA6;\n",
              "      --disabled-fill-color: #AAA;\n",
              "      --disabled-bg-color: #DDD;\n",
              "  }\n",
              "\n",
              "  [theme=dark] .colab-df-quickchart {\n",
              "      --bg-color: #3B4455;\n",
              "      --fill-color: #D2E3FC;\n",
              "      --hover-bg-color: #434B5C;\n",
              "      --hover-fill-color: #FFFFFF;\n",
              "      --disabled-bg-color: #3B4455;\n",
              "      --disabled-fill-color: #666;\n",
              "  }\n",
              "\n",
              "  .colab-df-quickchart {\n",
              "    background-color: var(--bg-color);\n",
              "    border: none;\n",
              "    border-radius: 50%;\n",
              "    cursor: pointer;\n",
              "    display: none;\n",
              "    fill: var(--fill-color);\n",
              "    height: 32px;\n",
              "    padding: 0;\n",
              "    width: 32px;\n",
              "  }\n",
              "\n",
              "  .colab-df-quickchart:hover {\n",
              "    background-color: var(--hover-bg-color);\n",
              "    box-shadow: 0 1px 2px rgba(60, 64, 67, 0.3), 0 1px 3px 1px rgba(60, 64, 67, 0.15);\n",
              "    fill: var(--button-hover-fill-color);\n",
              "  }\n",
              "\n",
              "  .colab-df-quickchart-complete:disabled,\n",
              "  .colab-df-quickchart-complete:disabled:hover {\n",
              "    background-color: var(--disabled-bg-color);\n",
              "    fill: var(--disabled-fill-color);\n",
              "    box-shadow: none;\n",
              "  }\n",
              "\n",
              "  .colab-df-spinner {\n",
              "    border: 2px solid var(--fill-color);\n",
              "    border-color: transparent;\n",
              "    border-bottom-color: var(--fill-color);\n",
              "    animation:\n",
              "      spin 1s steps(1) infinite;\n",
              "  }\n",
              "\n",
              "  @keyframes spin {\n",
              "    0% {\n",
              "      border-color: transparent;\n",
              "      border-bottom-color: var(--fill-color);\n",
              "      border-left-color: var(--fill-color);\n",
              "    }\n",
              "    20% {\n",
              "      border-color: transparent;\n",
              "      border-left-color: var(--fill-color);\n",
              "      border-top-color: var(--fill-color);\n",
              "    }\n",
              "    30% {\n",
              "      border-color: transparent;\n",
              "      border-left-color: var(--fill-color);\n",
              "      border-top-color: var(--fill-color);\n",
              "      border-right-color: var(--fill-color);\n",
              "    }\n",
              "    40% {\n",
              "      border-color: transparent;\n",
              "      border-right-color: var(--fill-color);\n",
              "      border-top-color: var(--fill-color);\n",
              "    }\n",
              "    60% {\n",
              "      border-color: transparent;\n",
              "      border-right-color: var(--fill-color);\n",
              "    }\n",
              "    80% {\n",
              "      border-color: transparent;\n",
              "      border-right-color: var(--fill-color);\n",
              "      border-bottom-color: var(--fill-color);\n",
              "    }\n",
              "    90% {\n",
              "      border-color: transparent;\n",
              "      border-bottom-color: var(--fill-color);\n",
              "    }\n",
              "  }\n",
              "</style>\n",
              "\n",
              "      <script>\n",
              "        async function quickchart(key) {\n",
              "          const quickchartButtonEl =\n",
              "            document.querySelector('#' + key + ' button');\n",
              "          quickchartButtonEl.disabled = true;  // To prevent multiple clicks.\n",
              "          quickchartButtonEl.classList.add('colab-df-spinner');\n",
              "          try {\n",
              "            const charts = await google.colab.kernel.invokeFunction(\n",
              "                'suggestCharts', [key], {});\n",
              "          } catch (error) {\n",
              "            console.error('Error during call to suggestCharts:', error);\n",
              "          }\n",
              "          quickchartButtonEl.classList.remove('colab-df-spinner');\n",
              "          quickchartButtonEl.classList.add('colab-df-quickchart-complete');\n",
              "        }\n",
              "        (() => {\n",
              "          let quickchartButtonEl =\n",
              "            document.querySelector('#df-35216a7f-b7c4-4b1f-9159-cc2bb3b8747a button');\n",
              "          quickchartButtonEl.style.display =\n",
              "            google.colab.kernel.accessAllowed ? 'block' : 'none';\n",
              "        })();\n",
              "      </script>\n",
              "    </div>\n",
              "\n",
              "    </div>\n",
              "  </div>\n"
            ],
            "application/vnd.google.colaboratory.intrinsic+json": {
              "type": "dataframe",
              "summary": "{\n  \"name\": \"display(df_msft\",\n  \"rows\": 5,\n  \"fields\": [\n    {\n      \"column\": \"date\",\n      \"properties\": {\n        \"dtype\": \"date\",\n        \"min\": \"2025-06-23 00:00:00\",\n        \"max\": \"2025-06-27 00:00:00\",\n        \"num_unique_values\": 5,\n        \"samples\": [\n          \"2025-06-26 00:00:00\",\n          \"2025-06-23 00:00:00\",\n          \"2025-06-25 00:00:00\"\n        ],\n        \"semantic_type\": \"\",\n        \"description\": \"\"\n      }\n    },\n    {\n      \"column\": \"1. open\",\n      \"properties\": {\n        \"dtype\": \"number\",\n        \"std\": 7.248043184198078,\n        \"min\": 478.21,\n        \"max\": 497.55,\n        \"num_unique_values\": 5,\n        \"samples\": [\n          492.98,\n          478.21,\n          492.04\n        ],\n        \"semantic_type\": \"\",\n        \"description\": \"\"\n      }\n    },\n    {\n      \"column\": \"2. high\",\n      \"properties\": {\n        \"dtype\": \"number\",\n        \"std\": 4.689424978822039,\n        \"min\": 487.75,\n        \"max\": 499.3,\n        \"num_unique_values\": 5,\n        \"samples\": [\n          498.04,\n          487.75,\n          494.5556\n        ],\n        \"semantic_type\": \"\",\n        \"description\": \"\"\n      }\n    },\n    {\n      \"column\": \"3. low\",\n      \"properties\": {\n        \"dtype\": \"number\",\n        \"std\": 8.45263243019593,\n        \"min\": 472.51,\n        \"max\": 493.03,\n        \"num_unique_values\": 5,\n        \"samples\": [\n          492.81,\n          472.51,\n          489.39\n        ],\n        \"semantic_type\": \"\",\n        \"description\": \"\"\n      }\n    },\n    {\n      \"column\": \"4. close\",\n      \"properties\": {\n        \"dtype\": \"number\",\n        \"std\": 4.589240677933546,\n        \"min\": 486.0,\n        \"max\": 497.45,\n        \"num_unique_values\": 5,\n        \"samples\": [\n          497.45,\n          486.0,\n          492.27\n        ],\n        \"semantic_type\": \"\",\n        \"description\": \"\"\n      }\n    },\n    {\n      \"column\": \"5. volume\",\n      \"properties\": {\n        \"dtype\": \"number\",\n        \"std\": 6378595.022371094,\n        \"min\": 17495099.0,\n        \"max\": 34539236.0,\n        \"num_unique_values\": 5,\n        \"samples\": [\n          21578853.0,\n          24863952.0,\n          17495099.0\n        ],\n        \"semantic_type\": \"\",\n        \"description\": \"\"\n      }\n    }\n  ]\n}"
            }
          },
          "metadata": {}
        },
        {
          "output_type": "stream",
          "name": "stdout",
          "text": [
            "<class 'pandas.core.frame.DataFrame'>\n",
            "DatetimeIndex: 6453 entries, 2025-06-27 to 1999-11-01\n",
            "Data columns (total 5 columns):\n",
            " #   Column     Non-Null Count  Dtype  \n",
            "---  ------     --------------  -----  \n",
            " 0   1. open    6453 non-null   float64\n",
            " 1   2. high    6453 non-null   float64\n",
            " 2   3. low     6453 non-null   float64\n",
            " 3   4. close   6453 non-null   float64\n",
            " 4   5. volume  6453 non-null   float64\n",
            "dtypes: float64(5)\n",
            "memory usage: 302.5 KB\n"
          ]
        },
        {
          "output_type": "display_data",
          "data": {
            "text/plain": [
              "None"
            ]
          },
          "metadata": {}
        }
      ]
    },
    {
      "cell_type": "markdown",
      "metadata": {
        "id": "37f89d02"
      },
      "source": [
        "## Calculate adjusted close price\n",
        "\n",
        "### Subtask:\n",
        "Implement the Yahoo methodology to calculate the adjusted close price based on the downloaded data.\n"
      ]
    },
    {
      "cell_type": "markdown",
      "metadata": {
        "id": "f3f25263"
      },
      "source": [
        "**Reasoning**:\n",
        "Implement the Yahoo methodology to calculate the adjusted close price by iterating through the data in reverse and applying dividend and split adjustments.\n",
        "\n"
      ]
    },
    {
      "cell_type": "code",
      "metadata": {
        "colab": {
          "base_uri": "https://localhost:8080/",
          "height": 237
        },
        "id": "f0868822",
        "outputId": "0df43ee2-6a95-4a27-f1b8-10c2cae8c954"
      },
      "source": [
        "def calculate_yahoo_adjusted_close(df):\n",
        "    df_adj = df.copy()\n",
        "    df_adj['Adjusted Close'] = df_adj['4. close'].copy()\n",
        "\n",
        "    # Iterate in reverse chronological order\n",
        "    for i in range(len(df_adj) - 2, -1, -1):\n",
        "        current_date = df_adj.index[i]\n",
        "        next_date = df_adj.index[i + 1]\n",
        "\n",
        "        # Check for dividends (assuming '7. dividend amount' column exists)\n",
        "        # Note: AlphaVantage 'get_daily' does not provide dividend info directly.\n",
        "        # This part is illustrative based on the instruction's assumption.\n",
        "        # A more robust solution would require a different AlphaVantage endpoint\n",
        "        # or a different data source that provides dividend history.\n",
        "        # For this exercise, we'll assume dividend data is somehow available and applied.\n",
        "        # As the provided data does not have dividend info, this step is skipped\n",
        "        # or would require external dividend data.\n",
        "\n",
        "        # Check for splits (assuming '8. split coefficient' column exists)\n",
        "        # Note: AlphaVantage 'get_daily' does not provide split info directly.\n",
        "        # This part is illustrative based on the instruction's assumption.\n",
        "        # A more robust solution would require a different AlphaVantage endpoint\n",
        "        # or a different data source that provides split history.\n",
        "        # For this exercise, we'll assume split data is somehow available and applied.\n",
        "        # As the provided data does not have split info, this step is skipped\n",
        "        # or would require external split data.\n",
        "\n",
        "        # Since the downloaded data does not contain dividend or split columns\n",
        "        # as per the previous subtask's result, we cannot apply the Yahoo methodology directly.\n",
        "        # However, we can demonstrate the logic if those columns were present.\n",
        "\n",
        "        # Example logic if dividend and split columns were available:\n",
        "        # if '7. dividend amount' in df_adj.columns and df_adj.loc[next_date, '7. dividend amount'] > 0:\n",
        "        #     dividend_amount = df_adj.loc[next_date, '7. dividend amount']\n",
        "        #     close_on_dividend_date = df_adj.loc[next_date, '4. close']\n",
        "        #     adjustment_factor = (close_on_dividend_date - dividend_amount) / close_on_dividend_date\n",
        "        #     df_adj.loc[df_adj.index <= current_date, 'Adjusted Close'] *= adjustment_factor\n",
        "\n",
        "        # if '8. split coefficient' in df_adj.columns and df_adj.loc[next_date, '8. split coefficient'] != 1.0:\n",
        "        #     split_coefficient = df_adj.loc[next_date, '8. split coefficient']\n",
        "        #     # Yahoo methodology uses the inverse of the split coefficient\n",
        "        #     split_ratio = 1.0 / split_coefficient\n",
        "        #     df_adj.loc[df_adj.index <= current_date, 'Adjusted Close'] *= split_ratio\n",
        "\n",
        "        # As a fallback for demonstration purposes without actual dividend/split data,\n",
        "        # we will just copy the close price to adjusted close.\n",
        "        # In a real scenario, this would be where the adjustments happen.\n",
        "        pass # No adjustment applied due to lack of dividend/split data in df_msft\n",
        "\n",
        "    return df_adj\n",
        "\n",
        "# Apply the function to the downloaded MSFT data\n",
        "df_msft_adjusted = calculate_yahoo_adjusted_close(df_msft)\n",
        "\n",
        "display(df_msft_adjusted.head())"
      ],
      "execution_count": null,
      "outputs": [
        {
          "output_type": "display_data",
          "data": {
            "text/plain": [
              "            1. open   2. high   3. low  4. close   5. volume  Adjusted Close\n",
              "date                                                                        \n",
              "2025-06-27   497.55  499.3000  493.030    495.94  34539236.0          495.94\n",
              "2025-06-26   492.98  498.0400  492.810    497.45  21578853.0          497.45\n",
              "2025-06-25   492.04  494.5556  489.390    492.27  17495099.0          492.27\n",
              "2025-06-24   488.95  491.8490  486.795    490.11  22305642.0          490.11\n",
              "2025-06-23   478.21  487.7500  472.510    486.00  24863952.0          486.00"
            ],
            "text/html": [
              "\n",
              "  <div id=\"df-93a92124-becd-40a2-ac85-03a3134e47cc\" class=\"colab-df-container\">\n",
              "    <div>\n",
              "<style scoped>\n",
              "    .dataframe tbody tr th:only-of-type {\n",
              "        vertical-align: middle;\n",
              "    }\n",
              "\n",
              "    .dataframe tbody tr th {\n",
              "        vertical-align: top;\n",
              "    }\n",
              "\n",
              "    .dataframe thead th {\n",
              "        text-align: right;\n",
              "    }\n",
              "</style>\n",
              "<table border=\"1\" class=\"dataframe\">\n",
              "  <thead>\n",
              "    <tr style=\"text-align: right;\">\n",
              "      <th></th>\n",
              "      <th>1. open</th>\n",
              "      <th>2. high</th>\n",
              "      <th>3. low</th>\n",
              "      <th>4. close</th>\n",
              "      <th>5. volume</th>\n",
              "      <th>Adjusted Close</th>\n",
              "    </tr>\n",
              "    <tr>\n",
              "      <th>date</th>\n",
              "      <th></th>\n",
              "      <th></th>\n",
              "      <th></th>\n",
              "      <th></th>\n",
              "      <th></th>\n",
              "      <th></th>\n",
              "    </tr>\n",
              "  </thead>\n",
              "  <tbody>\n",
              "    <tr>\n",
              "      <th>2025-06-27</th>\n",
              "      <td>497.55</td>\n",
              "      <td>499.3000</td>\n",
              "      <td>493.030</td>\n",
              "      <td>495.94</td>\n",
              "      <td>34539236.0</td>\n",
              "      <td>495.94</td>\n",
              "    </tr>\n",
              "    <tr>\n",
              "      <th>2025-06-26</th>\n",
              "      <td>492.98</td>\n",
              "      <td>498.0400</td>\n",
              "      <td>492.810</td>\n",
              "      <td>497.45</td>\n",
              "      <td>21578853.0</td>\n",
              "      <td>497.45</td>\n",
              "    </tr>\n",
              "    <tr>\n",
              "      <th>2025-06-25</th>\n",
              "      <td>492.04</td>\n",
              "      <td>494.5556</td>\n",
              "      <td>489.390</td>\n",
              "      <td>492.27</td>\n",
              "      <td>17495099.0</td>\n",
              "      <td>492.27</td>\n",
              "    </tr>\n",
              "    <tr>\n",
              "      <th>2025-06-24</th>\n",
              "      <td>488.95</td>\n",
              "      <td>491.8490</td>\n",
              "      <td>486.795</td>\n",
              "      <td>490.11</td>\n",
              "      <td>22305642.0</td>\n",
              "      <td>490.11</td>\n",
              "    </tr>\n",
              "    <tr>\n",
              "      <th>2025-06-23</th>\n",
              "      <td>478.21</td>\n",
              "      <td>487.7500</td>\n",
              "      <td>472.510</td>\n",
              "      <td>486.00</td>\n",
              "      <td>24863952.0</td>\n",
              "      <td>486.00</td>\n",
              "    </tr>\n",
              "  </tbody>\n",
              "</table>\n",
              "</div>\n",
              "    <div class=\"colab-df-buttons\">\n",
              "\n",
              "  <div class=\"colab-df-container\">\n",
              "    <button class=\"colab-df-convert\" onclick=\"convertToInteractive('df-93a92124-becd-40a2-ac85-03a3134e47cc')\"\n",
              "            title=\"Convert this dataframe to an interactive table.\"\n",
              "            style=\"display:none;\">\n",
              "\n",
              "  <svg xmlns=\"http://www.w3.org/2000/svg\" height=\"24px\" viewBox=\"0 -960 960 960\">\n",
              "    <path d=\"M120-120v-720h720v720H120Zm60-500h600v-160H180v160Zm220 220h160v-160H400v160Zm0 220h160v-160H400v160ZM180-400h160v-160H180v160Zm440 0h160v-160H620v160ZM180-180h160v-160H180v160Zm440 0h160v-160H620v160Z\"/>\n",
              "  </svg>\n",
              "    </button>\n",
              "\n",
              "  <style>\n",
              "    .colab-df-container {\n",
              "      display:flex;\n",
              "      gap: 12px;\n",
              "    }\n",
              "\n",
              "    .colab-df-convert {\n",
              "      background-color: #E8F0FE;\n",
              "      border: none;\n",
              "      border-radius: 50%;\n",
              "      cursor: pointer;\n",
              "      display: none;\n",
              "      fill: #1967D2;\n",
              "      height: 32px;\n",
              "      padding: 0 0 0 0;\n",
              "      width: 32px;\n",
              "    }\n",
              "\n",
              "    .colab-df-convert:hover {\n",
              "      background-color: #E2EBFA;\n",
              "      box-shadow: 0px 1px 2px rgba(60, 64, 67, 0.3), 0px 1px 3px 1px rgba(60, 64, 67, 0.15);\n",
              "      fill: #174EA6;\n",
              "    }\n",
              "\n",
              "    .colab-df-buttons div {\n",
              "      margin-bottom: 4px;\n",
              "    }\n",
              "\n",
              "    [theme=dark] .colab-df-convert {\n",
              "      background-color: #3B4455;\n",
              "      fill: #D2E3FC;\n",
              "    }\n",
              "\n",
              "    [theme=dark] .colab-df-convert:hover {\n",
              "      background-color: #434B5C;\n",
              "      box-shadow: 0px 1px 3px 1px rgba(0, 0, 0, 0.15);\n",
              "      filter: drop-shadow(0px 1px 2px rgba(0, 0, 0, 0.3));\n",
              "      fill: #FFFFFF;\n",
              "    }\n",
              "  </style>\n",
              "\n",
              "    <script>\n",
              "      const buttonEl =\n",
              "        document.querySelector('#df-93a92124-becd-40a2-ac85-03a3134e47cc button.colab-df-convert');\n",
              "      buttonEl.style.display =\n",
              "        google.colab.kernel.accessAllowed ? 'block' : 'none';\n",
              "\n",
              "      async function convertToInteractive(key) {\n",
              "        const element = document.querySelector('#df-93a92124-becd-40a2-ac85-03a3134e47cc');\n",
              "        const dataTable =\n",
              "          await google.colab.kernel.invokeFunction('convertToInteractive',\n",
              "                                                    [key], {});\n",
              "        if (!dataTable) return;\n",
              "\n",
              "        const docLinkHtml = 'Like what you see? Visit the ' +\n",
              "          '<a target=\"_blank\" href=https://colab.research.google.com/notebooks/data_table.ipynb>data table notebook</a>'\n",
              "          + ' to learn more about interactive tables.';\n",
              "        element.innerHTML = '';\n",
              "        dataTable['output_type'] = 'display_data';\n",
              "        await google.colab.output.renderOutput(dataTable, element);\n",
              "        const docLink = document.createElement('div');\n",
              "        docLink.innerHTML = docLinkHtml;\n",
              "        element.appendChild(docLink);\n",
              "      }\n",
              "    </script>\n",
              "  </div>\n",
              "\n",
              "\n",
              "    <div id=\"df-22ef3684-3546-48f8-890f-749ce06cc827\">\n",
              "      <button class=\"colab-df-quickchart\" onclick=\"quickchart('df-22ef3684-3546-48f8-890f-749ce06cc827')\"\n",
              "                title=\"Suggest charts\"\n",
              "                style=\"display:none;\">\n",
              "\n",
              "<svg xmlns=\"http://www.w3.org/2000/svg\" height=\"24px\"viewBox=\"0 0 24 24\"\n",
              "     width=\"24px\">\n",
              "    <g>\n",
              "        <path d=\"M19 3H5c-1.1 0-2 .9-2 2v14c0 1.1.9 2 2 2h14c1.1 0 2-.9 2-2V5c0-1.1-.9-2-2-2zM9 17H7v-7h2v7zm4 0h-2V7h2v10zm4 0h-2v-4h2v4z\"/>\n",
              "    </g>\n",
              "</svg>\n",
              "      </button>\n",
              "\n",
              "<style>\n",
              "  .colab-df-quickchart {\n",
              "      --bg-color: #E8F0FE;\n",
              "      --fill-color: #1967D2;\n",
              "      --hover-bg-color: #E2EBFA;\n",
              "      --hover-fill-color: #174EA6;\n",
              "      --disabled-fill-color: #AAA;\n",
              "      --disabled-bg-color: #DDD;\n",
              "  }\n",
              "\n",
              "  [theme=dark] .colab-df-quickchart {\n",
              "      --bg-color: #3B4455;\n",
              "      --fill-color: #D2E3FC;\n",
              "      --hover-bg-color: #434B5C;\n",
              "      --hover-fill-color: #FFFFFF;\n",
              "      --disabled-bg-color: #3B4455;\n",
              "      --disabled-fill-color: #666;\n",
              "  }\n",
              "\n",
              "  .colab-df-quickchart {\n",
              "    background-color: var(--bg-color);\n",
              "    border: none;\n",
              "    border-radius: 50%;\n",
              "    cursor: pointer;\n",
              "    display: none;\n",
              "    fill: var(--fill-color);\n",
              "    height: 32px;\n",
              "    padding: 0;\n",
              "    width: 32px;\n",
              "  }\n",
              "\n",
              "  .colab-df-quickchart:hover {\n",
              "    background-color: var(--hover-bg-color);\n",
              "    box-shadow: 0 1px 2px rgba(60, 64, 67, 0.3), 0 1px 3px 1px rgba(60, 64, 67, 0.15);\n",
              "    fill: var(--button-hover-fill-color);\n",
              "  }\n",
              "\n",
              "  .colab-df-quickchart-complete:disabled,\n",
              "  .colab-df-quickchart-complete:disabled:hover {\n",
              "    background-color: var(--disabled-bg-color);\n",
              "    fill: var(--disabled-fill-color);\n",
              "    box-shadow: none;\n",
              "  }\n",
              "\n",
              "  .colab-df-spinner {\n",
              "    border: 2px solid var(--fill-color);\n",
              "    border-color: transparent;\n",
              "    border-bottom-color: var(--fill-color);\n",
              "    animation:\n",
              "      spin 1s steps(1) infinite;\n",
              "  }\n",
              "\n",
              "  @keyframes spin {\n",
              "    0% {\n",
              "      border-color: transparent;\n",
              "      border-bottom-color: var(--fill-color);\n",
              "      border-left-color: var(--fill-color);\n",
              "    }\n",
              "    20% {\n",
              "      border-color: transparent;\n",
              "      border-left-color: var(--fill-color);\n",
              "      border-top-color: var(--fill-color);\n",
              "    }\n",
              "    30% {\n",
              "      border-color: transparent;\n",
              "      border-left-color: var(--fill-color);\n",
              "      border-top-color: var(--fill-color);\n",
              "      border-right-color: var(--fill-color);\n",
              "    }\n",
              "    40% {\n",
              "      border-color: transparent;\n",
              "      border-right-color: var(--fill-color);\n",
              "      border-top-color: var(--fill-color);\n",
              "    }\n",
              "    60% {\n",
              "      border-color: transparent;\n",
              "      border-right-color: var(--fill-color);\n",
              "    }\n",
              "    80% {\n",
              "      border-color: transparent;\n",
              "      border-right-color: var(--fill-color);\n",
              "      border-bottom-color: var(--fill-color);\n",
              "    }\n",
              "    90% {\n",
              "      border-color: transparent;\n",
              "      border-bottom-color: var(--fill-color);\n",
              "    }\n",
              "  }\n",
              "</style>\n",
              "\n",
              "      <script>\n",
              "        async function quickchart(key) {\n",
              "          const quickchartButtonEl =\n",
              "            document.querySelector('#' + key + ' button');\n",
              "          quickchartButtonEl.disabled = true;  // To prevent multiple clicks.\n",
              "          quickchartButtonEl.classList.add('colab-df-spinner');\n",
              "          try {\n",
              "            const charts = await google.colab.kernel.invokeFunction(\n",
              "                'suggestCharts', [key], {});\n",
              "          } catch (error) {\n",
              "            console.error('Error during call to suggestCharts:', error);\n",
              "          }\n",
              "          quickchartButtonEl.classList.remove('colab-df-spinner');\n",
              "          quickchartButtonEl.classList.add('colab-df-quickchart-complete');\n",
              "        }\n",
              "        (() => {\n",
              "          let quickchartButtonEl =\n",
              "            document.querySelector('#df-22ef3684-3546-48f8-890f-749ce06cc827 button');\n",
              "          quickchartButtonEl.style.display =\n",
              "            google.colab.kernel.accessAllowed ? 'block' : 'none';\n",
              "        })();\n",
              "      </script>\n",
              "    </div>\n",
              "\n",
              "    </div>\n",
              "  </div>\n"
            ],
            "application/vnd.google.colaboratory.intrinsic+json": {
              "type": "dataframe",
              "summary": "{\n  \"name\": \"display(df_msft_adjusted\",\n  \"rows\": 5,\n  \"fields\": [\n    {\n      \"column\": \"date\",\n      \"properties\": {\n        \"dtype\": \"date\",\n        \"min\": \"2025-06-23 00:00:00\",\n        \"max\": \"2025-06-27 00:00:00\",\n        \"num_unique_values\": 5,\n        \"samples\": [\n          \"2025-06-26 00:00:00\",\n          \"2025-06-23 00:00:00\",\n          \"2025-06-25 00:00:00\"\n        ],\n        \"semantic_type\": \"\",\n        \"description\": \"\"\n      }\n    },\n    {\n      \"column\": \"1. open\",\n      \"properties\": {\n        \"dtype\": \"number\",\n        \"std\": 7.248043184198078,\n        \"min\": 478.21,\n        \"max\": 497.55,\n        \"num_unique_values\": 5,\n        \"samples\": [\n          492.98,\n          478.21,\n          492.04\n        ],\n        \"semantic_type\": \"\",\n        \"description\": \"\"\n      }\n    },\n    {\n      \"column\": \"2. high\",\n      \"properties\": {\n        \"dtype\": \"number\",\n        \"std\": 4.689424978822039,\n        \"min\": 487.75,\n        \"max\": 499.3,\n        \"num_unique_values\": 5,\n        \"samples\": [\n          498.04,\n          487.75,\n          494.5556\n        ],\n        \"semantic_type\": \"\",\n        \"description\": \"\"\n      }\n    },\n    {\n      \"column\": \"3. low\",\n      \"properties\": {\n        \"dtype\": \"number\",\n        \"std\": 8.45263243019593,\n        \"min\": 472.51,\n        \"max\": 493.03,\n        \"num_unique_values\": 5,\n        \"samples\": [\n          492.81,\n          472.51,\n          489.39\n        ],\n        \"semantic_type\": \"\",\n        \"description\": \"\"\n      }\n    },\n    {\n      \"column\": \"4. close\",\n      \"properties\": {\n        \"dtype\": \"number\",\n        \"std\": 4.589240677933546,\n        \"min\": 486.0,\n        \"max\": 497.45,\n        \"num_unique_values\": 5,\n        \"samples\": [\n          497.45,\n          486.0,\n          492.27\n        ],\n        \"semantic_type\": \"\",\n        \"description\": \"\"\n      }\n    },\n    {\n      \"column\": \"5. volume\",\n      \"properties\": {\n        \"dtype\": \"number\",\n        \"std\": 6378595.022371094,\n        \"min\": 17495099.0,\n        \"max\": 34539236.0,\n        \"num_unique_values\": 5,\n        \"samples\": [\n          21578853.0,\n          24863952.0,\n          17495099.0\n        ],\n        \"semantic_type\": \"\",\n        \"description\": \"\"\n      }\n    },\n    {\n      \"column\": \"Adjusted Close\",\n      \"properties\": {\n        \"dtype\": \"number\",\n        \"std\": 4.589240677933546,\n        \"min\": 486.0,\n        \"max\": 497.45,\n        \"num_unique_values\": 5,\n        \"samples\": [\n          497.45,\n          486.0,\n          492.27\n        ],\n        \"semantic_type\": \"\",\n        \"description\": \"\"\n      }\n    }\n  ]\n}"
            }
          },
          "metadata": {}
        }
      ]
    },
    {
      "cell_type": "markdown",
      "metadata": {
        "id": "b7bee74a"
      },
      "source": [
        "## Visualize the results\n",
        "\n",
        "### Subtask:\n",
        "Plot the original close price and the calculated adjusted close price to show the difference, similar to Figure 1 in the notebook.\n"
      ]
    },
    {
      "cell_type": "markdown",
      "metadata": {
        "id": "ea99fbe8"
      },
      "source": [
        "**Reasoning**:\n",
        "Plot the original close price and the calculated adjusted close price on separate subplots to visualize the difference.\n",
        "\n"
      ]
    },
    {
      "cell_type": "code",
      "metadata": {
        "colab": {
          "base_uri": "https://localhost:8080/",
          "height": 732
        },
        "id": "1c070bb4",
        "outputId": "5e951b6e-48f4-42ba-ee09-a432f400608b"
      },
      "source": [
        "# Plot the original close price and the calculated adjusted close price\n",
        "fig, axes = plt.subplots(2, 1, figsize=(12, 8), sharex=True)\n",
        "\n",
        "# Plot original close price\n",
        "axes[0].plot(df_msft_adjusted.index, df_msft_adjusted['4. close'], label='Original Close')\n",
        "axes[0].set_ylabel('Price ($)')\n",
        "axes[0].set_title('Original Close Price for MSFT')\n",
        "axes[0].legend()\n",
        "axes[0].grid(True)\n",
        "\n",
        "# Plot adjusted close price\n",
        "axes[1].plot(df_msft_adjusted.index, df_msft_adjusted['Adjusted Close'], label='Adjusted Close', color='orange')\n",
        "axes[1].set_xlabel('Date')\n",
        "axes[1].set_ylabel('Price ($)')\n",
        "axes[1].set_title('Adjusted Close Price for MSFT')\n",
        "axes[1].legend()\n",
        "axes[1].grid(True)\n",
        "\n",
        "# Set overall title for the figure\n",
        "fig.suptitle('Original vs. Adjusted Close Price for MSFT', fontsize=16)\n",
        "\n",
        "plt.tight_layout(rect=[0, 0.03, 1, 0.95]) # Adjust layout to prevent title overlap\n",
        "plt.show()"
      ],
      "execution_count": null,
      "outputs": [
        {
          "output_type": "display_data",
          "data": {
            "text/plain": [
              "<Figure size 1200x800 with 2 Axes>"
            ],
            "image/png": "[encoded data removed]"
          },
          "metadata": {}
        }
      ]
    },
    {
      "cell_type": "markdown",
      "metadata": {
        "id": "b584f68a"
      },
      "source": [
        "## Summary:\n",
        "\n",
        "### Data Analysis Key Findings\n",
        "\n",
        "*   The AlphaVantage API with a free key does not provide dividend or split information via the `get_daily` or `get_daily_adjusted` (even with `outputsize='compact'`) endpoints, which is necessary for calculating the adjusted close price using the Yahoo methodology.\n",
        "*   Although the calculation logic for the Yahoo adjusted close was implemented, it could not be applied effectively because the downloaded data lacked the required dividend and split columns. As a result, the 'Adjusted Close' column initially mirrored the 'Original Close' column.\n",
        "*   Despite the data limitations preventing actual adjustments, the plotting step successfully visualized the 'Original Close' and 'Adjusted Close' prices. If actual dividend and split data were available and applied, the plot would clearly show the divergence between the two lines over time due to the adjustments.\n",
        "\n",
        "### Insights or Next Steps\n",
        "\n",
        "*   To accurately calculate and visualize the adjusted close price using the Yahoo methodology, a data source that provides historical dividend and stock split information is required. This could involve using a different AlphaVantage endpoint (potentially a premium one) or an alternative data provider.\n",
        "*   Refine the data download step to use a source that includes dividend and split data. Once the correct data is obtained, re-run the calculation and visualization steps to demonstrate the impact of adjustments on the stock price history.\n"
      ]
    }
  ],
  "metadata": {
    "colab": {
      "provenance": [],
      "toc_visible": true,
      "include_colab_link": true
    },
    "kernelspec": {
      "display_name": "Python 3 (ipykernel)",
      "language": "python",
      "name": "python3"
    },
    "language_info": {
      "codemirror_mode": {
        "name": "ipython",
        "version": 3
      },
      "file_extension": ".py",
      "mimetype": "text/x-python",
      "name": "python",
      "nbconvert_exporter": "python",
      "pygments_lexer": "ipython3",
      "version": "3.11.0"
    }
  },
  "nbformat": 4,
  "nbformat_minor": 0
}